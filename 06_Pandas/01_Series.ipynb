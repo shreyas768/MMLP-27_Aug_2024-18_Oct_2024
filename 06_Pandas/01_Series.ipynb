{
 "cells": [
  {
   "cell_type": "code",
   "execution_count": 1,
   "id": "9746409f",
   "metadata": {},
   "outputs": [],
   "source": [
    "import numpy as np\n",
    "import pandas as pd"
   ]
  },
  {
   "cell_type": "code",
   "execution_count": 2,
   "id": "dfa2ee1f",
   "metadata": {},
   "outputs": [],
   "source": [
    "myindex = ['USA','Canada','India']\n",
    "\n",
    "mydata = [1776,1867,1947]"
   ]
  },
  {
   "cell_type": "code",
   "execution_count": 13,
   "id": "6bc4b74f",
   "metadata": {},
   "outputs": [],
   "source": [
    "myser = pd.Series(mydata)"
   ]
  },
  {
   "cell_type": "code",
   "execution_count": 14,
   "id": "1b733d54",
   "metadata": {},
   "outputs": [
    {
     "data": {
      "text/plain": [
       "pandas.core.series.Series"
      ]
     },
     "execution_count": 14,
     "metadata": {},
     "output_type": "execute_result"
    }
   ],
   "source": [
    "type(myser)"
   ]
  },
  {
   "cell_type": "code",
   "execution_count": 6,
   "id": "dc05ed03",
   "metadata": {},
   "outputs": [
    {
     "data": {
      "text/plain": [
       "USA       1776\n",
       "Canada    1867\n",
       "India     1947\n",
       "dtype: int64"
      ]
     },
     "execution_count": 6,
     "metadata": {},
     "output_type": "execute_result"
    }
   ],
   "source": [
    "pd.Series(data = mydata, index=myindex)"
   ]
  },
  {
   "cell_type": "code",
   "execution_count": 8,
   "id": "65caaac1",
   "metadata": {},
   "outputs": [],
   "source": [
    "ran_data = np.random.randint(0,80,4)"
   ]
  },
  {
   "cell_type": "code",
   "execution_count": 9,
   "id": "07bacf8d",
   "metadata": {},
   "outputs": [],
   "source": [
    "names = ['Andy','Bob','Chelsea','David']"
   ]
  },
  {
   "cell_type": "code",
   "execution_count": 10,
   "id": "c7057912",
   "metadata": {},
   "outputs": [
    {
     "data": {
      "text/plain": [
       "Andy       55\n",
       "Bob        44\n",
       "Chelsea    75\n",
       "David      60\n",
       "dtype: int64"
      ]
     },
     "execution_count": 10,
     "metadata": {},
     "output_type": "execute_result"
    }
   ],
   "source": [
    "pd.Series(data=ran_data,index=names)"
   ]
  },
  {
   "cell_type": "code",
   "execution_count": 11,
   "id": "1ff14c23",
   "metadata": {},
   "outputs": [
    {
     "data": {
      "text/plain": [
       "{'Sam': 12, 'Frank': 10, 'Spike': 23}"
      ]
     },
     "execution_count": 11,
     "metadata": {},
     "output_type": "execute_result"
    }
   ],
   "source": [
    "ages = {'Sam':12,'Frank':10,'Spike':23}\n",
    "ages"
   ]
  },
  {
   "cell_type": "code",
   "execution_count": 12,
   "id": "bd7d8d12",
   "metadata": {},
   "outputs": [
    {
     "data": {
      "text/plain": [
       "Sam      12\n",
       "Frank    10\n",
       "Spike    23\n",
       "dtype: int64"
      ]
     },
     "execution_count": 12,
     "metadata": {},
     "output_type": "execute_result"
    }
   ],
   "source": [
    "pd.Series(ages)"
   ]
  },
  {
   "cell_type": "markdown",
   "id": "6ec10246",
   "metadata": {},
   "source": [
    "### Key concepts"
   ]
  },
  {
   "cell_type": "code",
   "execution_count": 15,
   "id": "0bf9732d",
   "metadata": {},
   "outputs": [],
   "source": [
    "q1 = {'Japan':80,'China':450,'India':200,'USA':250}\n",
    "q2 = {'Brazil':100,'China':500,'India':210, 'USA':260}"
   ]
  },
  {
   "cell_type": "code",
   "execution_count": 17,
   "id": "395e8759",
   "metadata": {},
   "outputs": [],
   "source": [
    "salesQ1 = pd.Series(q1)\n",
    "salesQ2 = pd.Series(q2)"
   ]
  },
  {
   "cell_type": "code",
   "execution_count": 18,
   "id": "6cfd10c5",
   "metadata": {},
   "outputs": [
    {
     "data": {
      "text/plain": [
       "Japan     80\n",
       "China    450\n",
       "India    200\n",
       "USA      250\n",
       "dtype: int64"
      ]
     },
     "execution_count": 18,
     "metadata": {},
     "output_type": "execute_result"
    }
   ],
   "source": [
    "salesQ1"
   ]
  },
  {
   "cell_type": "code",
   "execution_count": 19,
   "id": "7568634f",
   "metadata": {},
   "outputs": [
    {
     "data": {
      "text/plain": [
       "Brazil    100\n",
       "China     500\n",
       "India     210\n",
       "USA       260\n",
       "dtype: int64"
      ]
     },
     "execution_count": 19,
     "metadata": {},
     "output_type": "execute_result"
    }
   ],
   "source": [
    "salesQ2"
   ]
  },
  {
   "cell_type": "code",
   "execution_count": 24,
   "id": "f2769b03",
   "metadata": {},
   "outputs": [
    {
     "data": {
      "text/plain": [
       "200"
      ]
     },
     "execution_count": 24,
     "metadata": {},
     "output_type": "execute_result"
    }
   ],
   "source": [
    "#Call values based on Named Index\n",
    "salesQ1['India']"
   ]
  },
  {
   "cell_type": "code",
   "execution_count": 22,
   "id": "c21b6571",
   "metadata": {},
   "outputs": [
    {
     "name": "stderr",
     "output_type": "stream",
     "text": [
      "/var/folders/wl/v3x3g82n3b38s3cvwvtr0r7h0000gn/T/ipykernel_1818/2608590886.py:1: FutureWarning: Series.__getitem__ treating keys as positions is deprecated. In a future version, integer keys will always be treated as labels (consistent with DataFrame behavior). To access a value by position, use `ser.iloc[pos]`\n",
      "  salesQ1[2]\n"
     ]
    },
    {
     "data": {
      "text/plain": [
       "200"
      ]
     },
     "execution_count": 22,
     "metadata": {},
     "output_type": "execute_result"
    }
   ],
   "source": [
    "salesQ1[2]"
   ]
  },
  {
   "cell_type": "markdown",
   "id": "9db96488",
   "metadata": {},
   "source": [
    "### Operations"
   ]
  },
  {
   "cell_type": "code",
   "execution_count": 26,
   "id": "5ae420f9",
   "metadata": {},
   "outputs": [
    {
     "data": {
      "text/plain": [
       "Index(['Japan', 'China', 'India', 'USA'], dtype='object')"
      ]
     },
     "execution_count": 26,
     "metadata": {},
     "output_type": "execute_result"
    }
   ],
   "source": [
    "salesQ1.keys()"
   ]
  },
  {
   "cell_type": "code",
   "execution_count": 27,
   "id": "0100e297",
   "metadata": {},
   "outputs": [
    {
     "data": {
      "text/plain": [
       "Japan     320\n",
       "China    1800\n",
       "India     800\n",
       "USA      1000\n",
       "dtype: int64"
      ]
     },
     "execution_count": 27,
     "metadata": {},
     "output_type": "execute_result"
    }
   ],
   "source": [
    "salesQ1*4"
   ]
  },
  {
   "cell_type": "code",
   "execution_count": 28,
   "id": "68b0be71",
   "metadata": {},
   "outputs": [
    {
     "data": {
      "text/plain": [
       "Brazil      NaN\n",
       "China     950.0\n",
       "India     410.0\n",
       "Japan       NaN\n",
       "USA       510.0\n",
       "dtype: float64"
      ]
     },
     "execution_count": 28,
     "metadata": {},
     "output_type": "execute_result"
    }
   ],
   "source": [
    "#between series\n",
    "salesQ1 + salesQ2"
   ]
  },
  {
   "cell_type": "code",
   "execution_count": 31,
   "id": "986c6508",
   "metadata": {},
   "outputs": [
    {
     "data": {
      "text/plain": [
       "Brazil    100.0\n",
       "China     950.0\n",
       "India     410.0\n",
       "Japan      80.0\n",
       "USA       510.0\n",
       "dtype: float64"
      ]
     },
     "execution_count": 31,
     "metadata": {},
     "output_type": "execute_result"
    }
   ],
   "source": [
    "salesQ1.add(salesQ2,fill_value=0)"
   ]
  },
  {
   "cell_type": "code",
   "execution_count": null,
   "id": "3eff4d04",
   "metadata": {},
   "outputs": [],
   "source": []
  }
 ],
 "metadata": {
  "kernelspec": {
   "display_name": "Python 3 (ipykernel)",
   "language": "python",
   "name": "python3"
  },
  "language_info": {
   "codemirror_mode": {
    "name": "ipython",
    "version": 3
   },
   "file_extension": ".py",
   "mimetype": "text/x-python",
   "name": "python",
   "nbconvert_exporter": "python",
   "pygments_lexer": "ipython3",
   "version": "3.11.5"
  }
 },
 "nbformat": 4,
 "nbformat_minor": 5
}

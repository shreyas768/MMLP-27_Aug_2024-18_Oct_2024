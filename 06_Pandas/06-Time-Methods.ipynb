{
 "cells": [
  {
   "cell_type": "markdown",
   "id": "fcea4754",
   "metadata": {},
   "source": [
    "### DateTime"
   ]
  },
  {
   "cell_type": "code",
   "execution_count": 1,
   "id": "6c39f57b",
   "metadata": {},
   "outputs": [],
   "source": [
    "from datetime import datetime"
   ]
  },
  {
   "cell_type": "code",
   "execution_count": 2,
   "id": "4cff8592",
   "metadata": {},
   "outputs": [],
   "source": [
    "myyear = 2024\n",
    "mymonth = 9\n",
    "myday = 10\n",
    "myhour = 20\n",
    "myminute = 29\n",
    "myseconds = 30"
   ]
  },
  {
   "cell_type": "code",
   "execution_count": 3,
   "id": "3eef47bd",
   "metadata": {},
   "outputs": [],
   "source": [
    "mydate = datetime(myyear,mymonth,myday,myhour,myminute,myseconds)"
   ]
  },
  {
   "cell_type": "code",
   "execution_count": 4,
   "id": "cb15376c",
   "metadata": {},
   "outputs": [
    {
     "data": {
      "text/plain": [
       "datetime.datetime"
      ]
     },
     "execution_count": 4,
     "metadata": {},
     "output_type": "execute_result"
    }
   ],
   "source": [
    "type(mydate)"
   ]
  },
  {
   "cell_type": "code",
   "execution_count": 5,
   "id": "8f8b0680",
   "metadata": {},
   "outputs": [
    {
     "data": {
      "text/plain": [
       "10"
      ]
     },
     "execution_count": 5,
     "metadata": {},
     "output_type": "execute_result"
    }
   ],
   "source": [
    "mydate.day"
   ]
  },
  {
   "cell_type": "code",
   "execution_count": 6,
   "id": "cf8866d4",
   "metadata": {},
   "outputs": [
    {
     "data": {
      "text/plain": [
       "20"
      ]
     },
     "execution_count": 6,
     "metadata": {},
     "output_type": "execute_result"
    }
   ],
   "source": [
    "mydate.hour"
   ]
  },
  {
   "cell_type": "code",
   "execution_count": 7,
   "id": "186910df",
   "metadata": {},
   "outputs": [],
   "source": [
    "import pandas as pd"
   ]
  },
  {
   "cell_type": "code",
   "execution_count": 8,
   "id": "7193569c",
   "metadata": {},
   "outputs": [
    {
     "data": {
      "text/plain": [
       "0    Nov 4 2020\n",
       "1    2020-01-01\n",
       "2          None\n",
       "dtype: object"
      ]
     },
     "execution_count": 8,
     "metadata": {},
     "output_type": "execute_result"
    }
   ],
   "source": [
    "myser = pd.Series(['Nov 4 2020', '2020-01-01',None])\n",
    "myser"
   ]
  },
  {
   "cell_type": "code",
   "execution_count": 11,
   "id": "382ae205",
   "metadata": {},
   "outputs": [
    {
     "data": {
      "text/plain": [
       "'2020-01-01'"
      ]
     },
     "execution_count": 11,
     "metadata": {},
     "output_type": "execute_result"
    }
   ],
   "source": [
    "myser[1]"
   ]
  },
  {
   "cell_type": "code",
   "execution_count": 12,
   "id": "53c6d5d7",
   "metadata": {},
   "outputs": [
    {
     "data": {
      "text/plain": [
       "Timestamp('2020-11-04 00:00:00')"
      ]
     },
     "execution_count": 12,
     "metadata": {},
     "output_type": "execute_result"
    }
   ],
   "source": [
    "myser_dt = pd.to_datetime(myser,format='mixed')\n",
    "myser_dt[0]"
   ]
  },
  {
   "cell_type": "code",
   "execution_count": 13,
   "id": "fd2f3bae",
   "metadata": {},
   "outputs": [],
   "source": [
    "sample_date = '10-12-2024'\n",
    "dt = pd.to_datetime(sample_date)"
   ]
  },
  {
   "cell_type": "code",
   "execution_count": 14,
   "id": "a9303071",
   "metadata": {},
   "outputs": [
    {
     "data": {
      "text/plain": [
       "12"
      ]
     },
     "execution_count": 14,
     "metadata": {},
     "output_type": "execute_result"
    }
   ],
   "source": [
    "dt.day"
   ]
  },
  {
   "cell_type": "code",
   "execution_count": 15,
   "id": "e70bf050",
   "metadata": {},
   "outputs": [
    {
     "data": {
      "text/plain": [
       "10"
      ]
     },
     "execution_count": 15,
     "metadata": {},
     "output_type": "execute_result"
    }
   ],
   "source": [
    "dt.month"
   ]
  },
  {
   "cell_type": "code",
   "execution_count": 16,
   "id": "83dbb20d",
   "metadata": {},
   "outputs": [],
   "source": [
    "dt1 = pd.to_datetime(sample_date,dayfirst=True)"
   ]
  },
  {
   "cell_type": "code",
   "execution_count": 17,
   "id": "6c8ad669",
   "metadata": {},
   "outputs": [
    {
     "data": {
      "text/plain": [
       "10"
      ]
     },
     "execution_count": 17,
     "metadata": {},
     "output_type": "execute_result"
    }
   ],
   "source": [
    "dt1.day"
   ]
  },
  {
   "cell_type": "code",
   "execution_count": 18,
   "id": "04151cfe",
   "metadata": {},
   "outputs": [
    {
     "data": {
      "text/plain": [
       "12"
      ]
     },
     "execution_count": 18,
     "metadata": {},
     "output_type": "execute_result"
    }
   ],
   "source": [
    "dt1.month"
   ]
  },
  {
   "cell_type": "code",
   "execution_count": 19,
   "id": "d487bf6b",
   "metadata": {},
   "outputs": [
    {
     "data": {
      "text/plain": [
       "Timestamp('2024-12-31 00:00:00')"
      ]
     },
     "execution_count": 19,
     "metadata": {},
     "output_type": "execute_result"
    }
   ],
   "source": [
    "#custom time string formatting\n",
    "\n",
    "style_date = '31**Dec&&2024'\n",
    "\n",
    "pd.to_datetime(style_date,format='%d**%b&&%Y')"
   ]
  },
  {
   "cell_type": "markdown",
   "id": "f710be7a",
   "metadata": {},
   "source": [
    "### Data"
   ]
  },
  {
   "cell_type": "code",
   "execution_count": 21,
   "id": "a555e434",
   "metadata": {},
   "outputs": [
    {
     "data": {
      "text/html": [
       "<div>\n",
       "<style scoped>\n",
       "    .dataframe tbody tr th:only-of-type {\n",
       "        vertical-align: middle;\n",
       "    }\n",
       "\n",
       "    .dataframe tbody tr th {\n",
       "        vertical-align: top;\n",
       "    }\n",
       "\n",
       "    .dataframe thead th {\n",
       "        text-align: right;\n",
       "    }\n",
       "</style>\n",
       "<table border=\"1\" class=\"dataframe\">\n",
       "  <thead>\n",
       "    <tr style=\"text-align: right;\">\n",
       "      <th></th>\n",
       "      <th>DATE</th>\n",
       "      <th>MRTSSM4453USN</th>\n",
       "    </tr>\n",
       "  </thead>\n",
       "  <tbody>\n",
       "    <tr>\n",
       "      <th>0</th>\n",
       "      <td>1992-01-01</td>\n",
       "      <td>1509</td>\n",
       "    </tr>\n",
       "    <tr>\n",
       "      <th>1</th>\n",
       "      <td>1992-02-01</td>\n",
       "      <td>1541</td>\n",
       "    </tr>\n",
       "    <tr>\n",
       "      <th>2</th>\n",
       "      <td>1992-03-01</td>\n",
       "      <td>1597</td>\n",
       "    </tr>\n",
       "  </tbody>\n",
       "</table>\n",
       "</div>"
      ],
      "text/plain": [
       "         DATE  MRTSSM4453USN\n",
       "0  1992-01-01           1509\n",
       "1  1992-02-01           1541\n",
       "2  1992-03-01           1597"
      ]
     },
     "execution_count": 21,
     "metadata": {},
     "output_type": "execute_result"
    }
   ],
   "source": [
    "sales = pd.read_csv('RetailSales_BeerWineLiquor.csv')\n",
    "sales.head(3)"
   ]
  },
  {
   "cell_type": "code",
   "execution_count": 22,
   "id": "dfe00d55",
   "metadata": {},
   "outputs": [
    {
     "name": "stdout",
     "output_type": "stream",
     "text": [
      "<class 'pandas.core.frame.DataFrame'>\n",
      "RangeIndex: 340 entries, 0 to 339\n",
      "Data columns (total 2 columns):\n",
      " #   Column         Non-Null Count  Dtype \n",
      "---  ------         --------------  ----- \n",
      " 0   DATE           340 non-null    object\n",
      " 1   MRTSSM4453USN  340 non-null    int64 \n",
      "dtypes: int64(1), object(1)\n",
      "memory usage: 5.4+ KB\n"
     ]
    }
   ],
   "source": [
    "sales.info()"
   ]
  },
  {
   "cell_type": "code",
   "execution_count": 24,
   "id": "2315d9c7",
   "metadata": {},
   "outputs": [
    {
     "data": {
      "text/plain": [
       "'1992-01-01'"
      ]
     },
     "execution_count": 24,
     "metadata": {},
     "output_type": "execute_result"
    }
   ],
   "source": [
    "sales.iloc[0]['DATE']"
   ]
  },
  {
   "cell_type": "code",
   "execution_count": 26,
   "id": "7117559c",
   "metadata": {},
   "outputs": [],
   "source": [
    "sales['DATE'] = pd.to_datetime(sales['DATE'])"
   ]
  },
  {
   "cell_type": "code",
   "execution_count": 27,
   "id": "e86bf4a7",
   "metadata": {},
   "outputs": [
    {
     "data": {
      "text/plain": [
       "Timestamp('1992-01-01 00:00:00')"
      ]
     },
     "execution_count": 27,
     "metadata": {},
     "output_type": "execute_result"
    }
   ],
   "source": [
    "sales.iloc[0]['DATE']"
   ]
  },
  {
   "cell_type": "code",
   "execution_count": 28,
   "id": "110fdc1b",
   "metadata": {},
   "outputs": [
    {
     "data": {
      "text/plain": [
       "pandas._libs.tslibs.timestamps.Timestamp"
      ]
     },
     "execution_count": 28,
     "metadata": {},
     "output_type": "execute_result"
    }
   ],
   "source": [
    "type(sales.iloc[0]['DATE'])"
   ]
  },
  {
   "cell_type": "code",
   "execution_count": 29,
   "id": "8d1fd1da",
   "metadata": {},
   "outputs": [
    {
     "name": "stdout",
     "output_type": "stream",
     "text": [
      "<class 'pandas.core.frame.DataFrame'>\n",
      "RangeIndex: 340 entries, 0 to 339\n",
      "Data columns (total 2 columns):\n",
      " #   Column         Non-Null Count  Dtype         \n",
      "---  ------         --------------  -----         \n",
      " 0   DATE           340 non-null    datetime64[ns]\n",
      " 1   MRTSSM4453USN  340 non-null    int64         \n",
      "dtypes: datetime64[ns](1), int64(1)\n",
      "memory usage: 5.4 KB\n"
     ]
    }
   ],
   "source": [
    "sales1 = pd.read_csv('RetailSales_BeerWineLiquor.csv',parse_dates=[0])\n",
    "sales1.info()"
   ]
  },
  {
   "cell_type": "code",
   "execution_count": 30,
   "id": "bd9b92a1",
   "metadata": {
    "scrolled": true
   },
   "outputs": [
    {
     "data": {
      "text/html": [
       "<div>\n",
       "<style scoped>\n",
       "    .dataframe tbody tr th:only-of-type {\n",
       "        vertical-align: middle;\n",
       "    }\n",
       "\n",
       "    .dataframe tbody tr th {\n",
       "        vertical-align: top;\n",
       "    }\n",
       "\n",
       "    .dataframe thead th {\n",
       "        text-align: right;\n",
       "    }\n",
       "</style>\n",
       "<table border=\"1\" class=\"dataframe\">\n",
       "  <thead>\n",
       "    <tr style=\"text-align: right;\">\n",
       "      <th></th>\n",
       "      <th>MRTSSM4453USN</th>\n",
       "    </tr>\n",
       "    <tr>\n",
       "      <th>DATE</th>\n",
       "      <th></th>\n",
       "    </tr>\n",
       "  </thead>\n",
       "  <tbody>\n",
       "    <tr>\n",
       "      <th>1992-01-01</th>\n",
       "      <td>1509</td>\n",
       "    </tr>\n",
       "    <tr>\n",
       "      <th>1992-02-01</th>\n",
       "      <td>1541</td>\n",
       "    </tr>\n",
       "  </tbody>\n",
       "</table>\n",
       "</div>"
      ],
      "text/plain": [
       "            MRTSSM4453USN\n",
       "DATE                     \n",
       "1992-01-01           1509\n",
       "1992-02-01           1541"
      ]
     },
     "execution_count": 30,
     "metadata": {},
     "output_type": "execute_result"
    }
   ],
   "source": [
    "sales1 = sales1.set_index('DATE')\n",
    "sales1.head(2)"
   ]
  },
  {
   "cell_type": "code",
   "execution_count": 36,
   "id": "30faeafa",
   "metadata": {},
   "outputs": [
    {
     "data": {
      "text/html": [
       "<div>\n",
       "<style scoped>\n",
       "    .dataframe tbody tr th:only-of-type {\n",
       "        vertical-align: middle;\n",
       "    }\n",
       "\n",
       "    .dataframe tbody tr th {\n",
       "        vertical-align: top;\n",
       "    }\n",
       "\n",
       "    .dataframe thead th {\n",
       "        text-align: right;\n",
       "    }\n",
       "</style>\n",
       "<table border=\"1\" class=\"dataframe\">\n",
       "  <thead>\n",
       "    <tr style=\"text-align: right;\">\n",
       "      <th></th>\n",
       "      <th>MRTSSM4453USN</th>\n",
       "    </tr>\n",
       "    <tr>\n",
       "      <th>DATE</th>\n",
       "      <th></th>\n",
       "    </tr>\n",
       "  </thead>\n",
       "  <tbody>\n",
       "    <tr>\n",
       "      <th>1992-03-31</th>\n",
       "      <td>1549.000000</td>\n",
       "    </tr>\n",
       "    <tr>\n",
       "      <th>1992-06-30</th>\n",
       "      <td>1757.333333</td>\n",
       "    </tr>\n",
       "    <tr>\n",
       "      <th>1992-09-30</th>\n",
       "      <td>1848.000000</td>\n",
       "    </tr>\n",
       "    <tr>\n",
       "      <th>1992-12-31</th>\n",
       "      <td>2074.666667</td>\n",
       "    </tr>\n",
       "    <tr>\n",
       "      <th>1993-03-31</th>\n",
       "      <td>1607.000000</td>\n",
       "    </tr>\n",
       "    <tr>\n",
       "      <th>...</th>\n",
       "      <td>...</td>\n",
       "    </tr>\n",
       "    <tr>\n",
       "      <th>2019-06-30</th>\n",
       "      <td>4900.000000</td>\n",
       "    </tr>\n",
       "    <tr>\n",
       "      <th>2019-09-30</th>\n",
       "      <td>5065.000000</td>\n",
       "    </tr>\n",
       "    <tr>\n",
       "      <th>2019-12-31</th>\n",
       "      <td>5618.333333</td>\n",
       "    </tr>\n",
       "    <tr>\n",
       "      <th>2020-03-31</th>\n",
       "      <td>4827.666667</td>\n",
       "    </tr>\n",
       "    <tr>\n",
       "      <th>2020-06-30</th>\n",
       "      <td>5207.000000</td>\n",
       "    </tr>\n",
       "  </tbody>\n",
       "</table>\n",
       "<p>114 rows × 1 columns</p>\n",
       "</div>"
      ],
      "text/plain": [
       "            MRTSSM4453USN\n",
       "DATE                     \n",
       "1992-03-31    1549.000000\n",
       "1992-06-30    1757.333333\n",
       "1992-09-30    1848.000000\n",
       "1992-12-31    2074.666667\n",
       "1993-03-31    1607.000000\n",
       "...                   ...\n",
       "2019-06-30    4900.000000\n",
       "2019-09-30    5065.000000\n",
       "2019-12-31    5618.333333\n",
       "2020-03-31    4827.666667\n",
       "2020-06-30    5207.000000\n",
       "\n",
       "[114 rows x 1 columns]"
      ]
     },
     "execution_count": 36,
     "metadata": {},
     "output_type": "execute_result"
    }
   ],
   "source": [
    "sales1.resample(rule = 'Q').mean()"
   ]
  },
  {
   "cell_type": "markdown",
   "id": "51a81a90",
   "metadata": {},
   "source": [
    "### .dt method"
   ]
  },
  {
   "cell_type": "code",
   "execution_count": 38,
   "id": "325186bc",
   "metadata": {},
   "outputs": [
    {
     "data": {
      "text/plain": [
       "0       1\n",
       "1       2\n",
       "2       3\n",
       "3       4\n",
       "4       5\n",
       "       ..\n",
       "335    12\n",
       "336     1\n",
       "337     2\n",
       "338     3\n",
       "339     4\n",
       "Name: DATE, Length: 340, dtype: int32"
      ]
     },
     "execution_count": 38,
     "metadata": {},
     "output_type": "execute_result"
    }
   ],
   "source": [
    "sales['DATE'].dt.month"
   ]
  },
  {
   "cell_type": "code",
   "execution_count": 39,
   "id": "4feeedd0",
   "metadata": {},
   "outputs": [
    {
     "data": {
      "text/plain": [
       "0       True\n",
       "1       True\n",
       "2       True\n",
       "3       True\n",
       "4       True\n",
       "       ...  \n",
       "335    False\n",
       "336     True\n",
       "337     True\n",
       "338     True\n",
       "339     True\n",
       "Name: DATE, Length: 340, dtype: bool"
      ]
     },
     "execution_count": 39,
     "metadata": {},
     "output_type": "execute_result"
    }
   ],
   "source": [
    "sales['DATE'].dt.is_leap_year"
   ]
  },
  {
   "cell_type": "code",
   "execution_count": 43,
   "id": "f39e4cfe",
   "metadata": {},
   "outputs": [],
   "source": [
    "#help(sales['DATE'].dt)"
   ]
  },
  {
   "cell_type": "code",
   "execution_count": 42,
   "id": "85ee5acb",
   "metadata": {},
   "outputs": [
    {
     "data": {
      "text/plain": [
       "0        1\n",
       "1       32\n",
       "2       61\n",
       "3       92\n",
       "4      122\n",
       "      ... \n",
       "335    335\n",
       "336      1\n",
       "337     32\n",
       "338     61\n",
       "339     92\n",
       "Name: DATE, Length: 340, dtype: int32"
      ]
     },
     "execution_count": 42,
     "metadata": {},
     "output_type": "execute_result"
    }
   ],
   "source": [
    "sales['DATE'].dt.dayofyear"
   ]
  },
  {
   "cell_type": "code",
   "execution_count": null,
   "id": "babc92ea",
   "metadata": {},
   "outputs": [],
   "source": []
  }
 ],
 "metadata": {
  "kernelspec": {
   "display_name": "Python 3 (ipykernel)",
   "language": "python",
   "name": "python3"
  },
  "language_info": {
   "codemirror_mode": {
    "name": "ipython",
    "version": 3
   },
   "file_extension": ".py",
   "mimetype": "text/x-python",
   "name": "python",
   "nbconvert_exporter": "python",
   "pygments_lexer": "ipython3",
   "version": "3.11.5"
  }
 },
 "nbformat": 4,
 "nbformat_minor": 5
}

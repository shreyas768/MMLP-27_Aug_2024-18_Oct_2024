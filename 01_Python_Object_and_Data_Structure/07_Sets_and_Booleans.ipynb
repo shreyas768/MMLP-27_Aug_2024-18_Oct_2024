{
 "cells": [
  {
   "cell_type": "code",
   "execution_count": 1,
   "id": "f3cb483d",
   "metadata": {},
   "outputs": [],
   "source": [
    "#sets: unordered collection of unique elements\n",
    "\n",
    "x = set()"
   ]
  },
  {
   "cell_type": "code",
   "execution_count": 2,
   "id": "6aa6117f",
   "metadata": {},
   "outputs": [
    {
     "data": {
      "text/plain": [
       "set()"
      ]
     },
     "execution_count": 2,
     "metadata": {},
     "output_type": "execute_result"
    }
   ],
   "source": [
    "x"
   ]
  },
  {
   "cell_type": "code",
   "execution_count": 3,
   "id": "c0f3c7ae",
   "metadata": {},
   "outputs": [],
   "source": [
    "x.add(12)"
   ]
  },
  {
   "cell_type": "code",
   "execution_count": 4,
   "id": "8e28f11d",
   "metadata": {},
   "outputs": [
    {
     "data": {
      "text/plain": [
       "{12}"
      ]
     },
     "execution_count": 4,
     "metadata": {},
     "output_type": "execute_result"
    }
   ],
   "source": [
    "x"
   ]
  },
  {
   "cell_type": "code",
   "execution_count": 5,
   "id": "2bccda40",
   "metadata": {},
   "outputs": [],
   "source": [
    "x.add('hi')"
   ]
  },
  {
   "cell_type": "code",
   "execution_count": 6,
   "id": "f01cd4d6",
   "metadata": {},
   "outputs": [
    {
     "data": {
      "text/plain": [
       "{12, 'hi'}"
      ]
     },
     "execution_count": 6,
     "metadata": {},
     "output_type": "execute_result"
    }
   ],
   "source": [
    "x"
   ]
  },
  {
   "cell_type": "code",
   "execution_count": 7,
   "id": "2309b76e",
   "metadata": {},
   "outputs": [],
   "source": [
    "x.add(12)"
   ]
  },
  {
   "cell_type": "code",
   "execution_count": 8,
   "id": "2fbe23ec",
   "metadata": {},
   "outputs": [
    {
     "data": {
      "text/plain": [
       "{12, 'hi'}"
      ]
     },
     "execution_count": 8,
     "metadata": {},
     "output_type": "execute_result"
    }
   ],
   "source": [
    "x"
   ]
  },
  {
   "cell_type": "code",
   "execution_count": 9,
   "id": "5689f66c",
   "metadata": {},
   "outputs": [],
   "source": [
    "lst = [1,1,1,1,1,1,4,3,2,6,4,2,1,8,7,8]"
   ]
  },
  {
   "cell_type": "code",
   "execution_count": 10,
   "id": "06a40ce1",
   "metadata": {},
   "outputs": [
    {
     "data": {
      "text/plain": [
       "{1, 2, 3, 4, 6, 7, 8}"
      ]
     },
     "execution_count": 10,
     "metadata": {},
     "output_type": "execute_result"
    }
   ],
   "source": [
    "#cast as set\n",
    "set(lst)"
   ]
  },
  {
   "cell_type": "markdown",
   "id": "62923abc",
   "metadata": {},
   "source": [
    "## Booleans"
   ]
  },
  {
   "cell_type": "code",
   "execution_count": 11,
   "id": "3ff31333",
   "metadata": {},
   "outputs": [],
   "source": [
    "a = True"
   ]
  },
  {
   "cell_type": "code",
   "execution_count": 12,
   "id": "b80e36ab",
   "metadata": {},
   "outputs": [
    {
     "data": {
      "text/plain": [
       "bool"
      ]
     },
     "execution_count": 12,
     "metadata": {},
     "output_type": "execute_result"
    }
   ],
   "source": [
    "type(a)"
   ]
  },
  {
   "cell_type": "code",
   "execution_count": 13,
   "id": "89d96c93",
   "metadata": {},
   "outputs": [
    {
     "data": {
      "text/plain": [
       "True"
      ]
     },
     "execution_count": 13,
     "metadata": {},
     "output_type": "execute_result"
    }
   ],
   "source": [
    "4 < 9"
   ]
  },
  {
   "cell_type": "code",
   "execution_count": 14,
   "id": "7a182c83",
   "metadata": {},
   "outputs": [
    {
     "data": {
      "text/plain": [
       "False"
      ]
     },
     "execution_count": 14,
     "metadata": {},
     "output_type": "execute_result"
    }
   ],
   "source": [
    "4 > 9"
   ]
  },
  {
   "cell_type": "code",
   "execution_count": 15,
   "id": "80eff3f4",
   "metadata": {},
   "outputs": [
    {
     "data": {
      "text/plain": [
       "bool"
      ]
     },
     "execution_count": 15,
     "metadata": {},
     "output_type": "execute_result"
    }
   ],
   "source": [
    "type(4 < 9)"
   ]
  },
  {
   "cell_type": "code",
   "execution_count": 17,
   "id": "9fbf5b6d",
   "metadata": {},
   "outputs": [
    {
     "data": {
      "text/plain": [
       "True"
      ]
     },
     "execution_count": 17,
     "metadata": {},
     "output_type": "execute_result"
    }
   ],
   "source": [
    "2 == 2 #equal"
   ]
  },
  {
   "cell_type": "code",
   "execution_count": 18,
   "id": "f2712aab",
   "metadata": {},
   "outputs": [
    {
     "data": {
      "text/plain": [
       "False"
      ]
     },
     "execution_count": 18,
     "metadata": {},
     "output_type": "execute_result"
    }
   ],
   "source": [
    "#not equal\n",
    "\n",
    "2 != 2"
   ]
  },
  {
   "cell_type": "code",
   "execution_count": 19,
   "id": "e5819fb8",
   "metadata": {},
   "outputs": [
    {
     "data": {
      "text/plain": [
       "True"
      ]
     },
     "execution_count": 19,
     "metadata": {},
     "output_type": "execute_result"
    }
   ],
   "source": [
    "2 >= 2"
   ]
  },
  {
   "cell_type": "code",
   "execution_count": 20,
   "id": "6b2f1238",
   "metadata": {},
   "outputs": [
    {
     "data": {
      "text/plain": [
       "True"
      ]
     },
     "execution_count": 20,
     "metadata": {},
     "output_type": "execute_result"
    }
   ],
   "source": [
    "3 <= 4"
   ]
  },
  {
   "cell_type": "markdown",
   "id": "cc30547e",
   "metadata": {},
   "source": [
    "#### Chained Comparison Operators"
   ]
  },
  {
   "cell_type": "code",
   "execution_count": 21,
   "id": "67f09799",
   "metadata": {},
   "outputs": [
    {
     "data": {
      "text/plain": [
       "True"
      ]
     },
     "execution_count": 21,
     "metadata": {},
     "output_type": "execute_result"
    }
   ],
   "source": [
    "1 < 2 < 3"
   ]
  },
  {
   "cell_type": "code",
   "execution_count": 22,
   "id": "d9920362",
   "metadata": {},
   "outputs": [
    {
     "data": {
      "text/plain": [
       "True"
      ]
     },
     "execution_count": 22,
     "metadata": {},
     "output_type": "execute_result"
    }
   ],
   "source": [
    "#AND\n",
    "\n",
    "1 < 2 and 2 < 3"
   ]
  },
  {
   "cell_type": "code",
   "execution_count": 23,
   "id": "c4fa30e0",
   "metadata": {},
   "outputs": [
    {
     "data": {
      "text/plain": [
       "False"
      ]
     },
     "execution_count": 23,
     "metadata": {},
     "output_type": "execute_result"
    }
   ],
   "source": [
    "1 < 2 and 2 > 3"
   ]
  },
  {
   "cell_type": "code",
   "execution_count": 24,
   "id": "7a561ff5",
   "metadata": {},
   "outputs": [
    {
     "data": {
      "text/plain": [
       "True"
      ]
     },
     "execution_count": 24,
     "metadata": {},
     "output_type": "execute_result"
    }
   ],
   "source": [
    "#OR\n",
    "\n",
    "1 < 2 or 2 > 3"
   ]
  },
  {
   "cell_type": "code",
   "execution_count": 25,
   "id": "dda00e9c",
   "metadata": {},
   "outputs": [
    {
     "data": {
      "text/plain": [
       "True"
      ]
     },
     "execution_count": 25,
     "metadata": {},
     "output_type": "execute_result"
    }
   ],
   "source": [
    "1 ==1 or 100 ==1"
   ]
  },
  {
   "cell_type": "code",
   "execution_count": null,
   "id": "bcb26341",
   "metadata": {},
   "outputs": [],
   "source": []
  }
 ],
 "metadata": {
  "kernelspec": {
   "display_name": "Python 3 (ipykernel)",
   "language": "python",
   "name": "python3"
  },
  "language_info": {
   "codemirror_mode": {
    "name": "ipython",
    "version": 3
   },
   "file_extension": ".py",
   "mimetype": "text/x-python",
   "name": "python",
   "nbconvert_exporter": "python",
   "pygments_lexer": "ipython3",
   "version": "3.11.5"
  }
 },
 "nbformat": 4,
 "nbformat_minor": 5
}

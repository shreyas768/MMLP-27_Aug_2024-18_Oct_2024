{
 "cells": [
  {
   "cell_type": "code",
   "execution_count": 1,
   "id": "200ae3b5",
   "metadata": {},
   "outputs": [],
   "source": [
    "my_list = [1,2,3,4]"
   ]
  },
  {
   "cell_type": "code",
   "execution_count": 2,
   "id": "8b4bf51b",
   "metadata": {},
   "outputs": [
    {
     "data": {
      "text/plain": [
       "list"
      ]
     },
     "execution_count": 2,
     "metadata": {},
     "output_type": "execute_result"
    }
   ],
   "source": [
    "type(my_list)"
   ]
  },
  {
   "cell_type": "code",
   "execution_count": 4,
   "id": "3f976c37",
   "metadata": {},
   "outputs": [],
   "source": [
    "my_list2 = ['a string', 23, 100.232, 'o', ['nested list', 'shreyas']]"
   ]
  },
  {
   "cell_type": "code",
   "execution_count": 94,
   "id": "8d20ff20",
   "metadata": {},
   "outputs": [],
   "source": [
    "my_list2[0] = 'String'"
   ]
  },
  {
   "cell_type": "code",
   "execution_count": 95,
   "id": "4a49801d",
   "metadata": {},
   "outputs": [
    {
     "data": {
      "text/plain": [
       "['String', 23, 100.232, 'o', ['nested list', 'shreyas']]"
      ]
     },
     "execution_count": 95,
     "metadata": {},
     "output_type": "execute_result"
    }
   ],
   "source": [
    "my_list2"
   ]
  },
  {
   "cell_type": "code",
   "execution_count": 5,
   "id": "1e5997fc",
   "metadata": {},
   "outputs": [
    {
     "data": {
      "text/plain": [
       "5"
      ]
     },
     "execution_count": 5,
     "metadata": {},
     "output_type": "execute_result"
    }
   ],
   "source": [
    "len(my_list2)"
   ]
  },
  {
   "cell_type": "code",
   "execution_count": 6,
   "id": "8add2a48",
   "metadata": {},
   "outputs": [
    {
     "data": {
      "text/plain": [
       "1"
      ]
     },
     "execution_count": 6,
     "metadata": {},
     "output_type": "execute_result"
    }
   ],
   "source": [
    "my_list[0]"
   ]
  },
  {
   "cell_type": "code",
   "execution_count": 8,
   "id": "3c8ab47f",
   "metadata": {},
   "outputs": [
    {
     "data": {
      "text/plain": [
       "str"
      ]
     },
     "execution_count": 8,
     "metadata": {},
     "output_type": "execute_result"
    }
   ],
   "source": [
    "type(my_list2[0])"
   ]
  },
  {
   "cell_type": "code",
   "execution_count": 9,
   "id": "e18c5520",
   "metadata": {},
   "outputs": [
    {
     "data": {
      "text/plain": [
       "100.232"
      ]
     },
     "execution_count": 9,
     "metadata": {},
     "output_type": "execute_result"
    }
   ],
   "source": [
    "my_list2[-3]"
   ]
  },
  {
   "cell_type": "code",
   "execution_count": 10,
   "id": "168dc0d3",
   "metadata": {},
   "outputs": [
    {
     "data": {
      "text/plain": [
       "[100.232, 'o', ['nested list', 'shreyas']]"
      ]
     },
     "execution_count": 10,
     "metadata": {},
     "output_type": "execute_result"
    }
   ],
   "source": [
    "my_list2[-3:]"
   ]
  },
  {
   "cell_type": "code",
   "execution_count": 11,
   "id": "8a94c0b6",
   "metadata": {},
   "outputs": [
    {
     "data": {
      "text/plain": [
       "['a string', 23]"
      ]
     },
     "execution_count": 11,
     "metadata": {},
     "output_type": "execute_result"
    }
   ],
   "source": [
    "my_list2[:-3]"
   ]
  },
  {
   "cell_type": "code",
   "execution_count": 14,
   "id": "0d3f4ea2",
   "metadata": {},
   "outputs": [
    {
     "data": {
      "text/plain": [
       "[1, 2, 3, 4, 'new item 1', 'new item 2']"
      ]
     },
     "execution_count": 14,
     "metadata": {},
     "output_type": "execute_result"
    }
   ],
   "source": [
    "#concatenation\n",
    "my_list + ['new item 1', 'new item 2']"
   ]
  },
  {
   "cell_type": "code",
   "execution_count": 15,
   "id": "d8a3e99d",
   "metadata": {},
   "outputs": [],
   "source": [
    "#reassign\n",
    "my_list = my_list + ['new item 1', 'new item 2']"
   ]
  },
  {
   "cell_type": "code",
   "execution_count": 16,
   "id": "dfcfb222",
   "metadata": {},
   "outputs": [
    {
     "data": {
      "text/plain": [
       "[1, 2, 3, 4, 'new item 1', 'new item 2']"
      ]
     },
     "execution_count": 16,
     "metadata": {},
     "output_type": "execute_result"
    }
   ],
   "source": [
    "my_list"
   ]
  },
  {
   "cell_type": "code",
   "execution_count": 17,
   "id": "acc993d9",
   "metadata": {},
   "outputs": [
    {
     "data": {
      "text/plain": [
       "[1,\n",
       " 2,\n",
       " 3,\n",
       " 4,\n",
       " 'new item 1',\n",
       " 'new item 2',\n",
       " 1,\n",
       " 2,\n",
       " 3,\n",
       " 4,\n",
       " 'new item 1',\n",
       " 'new item 2']"
      ]
     },
     "execution_count": 17,
     "metadata": {},
     "output_type": "execute_result"
    }
   ],
   "source": [
    "my_list*2"
   ]
  },
  {
   "cell_type": "code",
   "execution_count": 18,
   "id": "e5267305",
   "metadata": {},
   "outputs": [
    {
     "data": {
      "text/plain": [
       "[1, 2, 3, 4, 'new item 1', 'new item 2']"
      ]
     },
     "execution_count": 18,
     "metadata": {},
     "output_type": "execute_result"
    }
   ],
   "source": [
    "my_list"
   ]
  },
  {
   "cell_type": "code",
   "execution_count": 24,
   "id": "139db5c9",
   "metadata": {},
   "outputs": [],
   "source": [
    "lst = [12,['32.87', 'name'],45.1, 'Shreyas', ['Machine Learning', 'RBPL', 'course'], 'instructor', [' '], 'is']"
   ]
  },
  {
   "cell_type": "markdown",
   "id": "ae479021",
   "metadata": {},
   "source": [
    "* Course name is Machine Learning\n",
    "* Instructor name is Shreyas\n",
    "* 87/12"
   ]
  },
  {
   "cell_type": "code",
   "execution_count": 32,
   "id": "eb2f887b",
   "metadata": {},
   "outputs": [
    {
     "data": {
      "text/plain": [
       "'Course name is Machine Learning'"
      ]
     },
     "execution_count": 32,
     "metadata": {},
     "output_type": "execute_result"
    }
   ],
   "source": [
    "lst[4][-1].capitalize()+lst[-2][0]+lst[1][-1]+lst[-2][0]+lst[-1]+lst[-2][0]+lst[-4][0]"
   ]
  },
  {
   "cell_type": "code",
   "execution_count": 36,
   "id": "8a7cbdb3",
   "metadata": {},
   "outputs": [
    {
     "name": "stdout",
     "output_type": "stream",
     "text": [
      "Instructor name is Shreyas\n"
     ]
    }
   ],
   "source": [
    "print(lst[-3].capitalize()+lst[-2][0]+lst[1][-1]+lst[-2][0]+lst[-1]+lst[-2][0]+lst[3])"
   ]
  },
  {
   "cell_type": "code",
   "execution_count": 44,
   "id": "d2a14f6b",
   "metadata": {},
   "outputs": [
    {
     "data": {
      "text/plain": [
       "7.25"
      ]
     },
     "execution_count": 44,
     "metadata": {},
     "output_type": "execute_result"
    }
   ],
   "source": [
    "int(lst[1][0][-2:])/lst[0]"
   ]
  },
  {
   "cell_type": "markdown",
   "id": "1d55c8aa",
   "metadata": {},
   "source": [
    "### Basic Methods"
   ]
  },
  {
   "cell_type": "code",
   "execution_count": 51,
   "id": "72f70cb8",
   "metadata": {},
   "outputs": [],
   "source": [
    "lst = [1,2,3]"
   ]
  },
  {
   "cell_type": "code",
   "execution_count": 52,
   "id": "edea4db9",
   "metadata": {},
   "outputs": [],
   "source": [
    "#add some element permanently\n",
    "\n",
    "lst.append('appended element')"
   ]
  },
  {
   "cell_type": "code",
   "execution_count": 53,
   "id": "f7a29678",
   "metadata": {},
   "outputs": [
    {
     "data": {
      "text/plain": [
       "[1, 2, 3, 'appended element']"
      ]
     },
     "execution_count": 53,
     "metadata": {},
     "output_type": "execute_result"
    }
   ],
   "source": [
    "lst"
   ]
  },
  {
   "cell_type": "code",
   "execution_count": 54,
   "id": "0d3e2463",
   "metadata": {},
   "outputs": [
    {
     "data": {
      "text/plain": [
       "1"
      ]
     },
     "execution_count": 54,
     "metadata": {},
     "output_type": "execute_result"
    }
   ],
   "source": [
    "#pop off the 0th indexed element\n",
    "lst.pop(0)"
   ]
  },
  {
   "cell_type": "code",
   "execution_count": 55,
   "id": "a1533933",
   "metadata": {},
   "outputs": [
    {
     "data": {
      "text/plain": [
       "[2, 3, 'appended element']"
      ]
     },
     "execution_count": 55,
     "metadata": {},
     "output_type": "execute_result"
    }
   ],
   "source": [
    "lst"
   ]
  },
  {
   "cell_type": "code",
   "execution_count": 56,
   "id": "0d20f934",
   "metadata": {},
   "outputs": [
    {
     "data": {
      "text/plain": [
       "'appended element'"
      ]
     },
     "execution_count": 56,
     "metadata": {},
     "output_type": "execute_result"
    }
   ],
   "source": [
    "lst.pop()"
   ]
  },
  {
   "cell_type": "code",
   "execution_count": 57,
   "id": "0f74da6d",
   "metadata": {},
   "outputs": [
    {
     "data": {
      "text/plain": [
       "[2, 3]"
      ]
     },
     "execution_count": 57,
     "metadata": {},
     "output_type": "execute_result"
    }
   ],
   "source": [
    "lst"
   ]
  },
  {
   "cell_type": "code",
   "execution_count": 58,
   "id": "a1f80ab8",
   "metadata": {},
   "outputs": [
    {
     "ename": "IndexError",
     "evalue": "list index out of range",
     "output_type": "error",
     "traceback": [
      "\u001b[0;31m---------------------------------------------------------------------------\u001b[0m",
      "\u001b[0;31mIndexError\u001b[0m                                Traceback (most recent call last)",
      "Cell \u001b[0;32mIn[58], line 1\u001b[0m\n\u001b[0;32m----> 1\u001b[0m lst[\u001b[38;5;241m5\u001b[39m]\n",
      "\u001b[0;31mIndexError\u001b[0m: list index out of range"
     ]
    }
   ],
   "source": [
    "lst[5]"
   ]
  },
  {
   "cell_type": "code",
   "execution_count": 59,
   "id": "048f168b",
   "metadata": {},
   "outputs": [],
   "source": [
    "new_lst = ['a','e','x','b','c']"
   ]
  },
  {
   "cell_type": "code",
   "execution_count": 60,
   "id": "938a0522",
   "metadata": {},
   "outputs": [
    {
     "data": {
      "text/plain": [
       "['a', 'e', 'x', 'b', 'c']"
      ]
     },
     "execution_count": 60,
     "metadata": {},
     "output_type": "execute_result"
    }
   ],
   "source": [
    "new_lst"
   ]
  },
  {
   "cell_type": "code",
   "execution_count": 61,
   "id": "a4126248",
   "metadata": {},
   "outputs": [],
   "source": [
    "#reverse the order permanently\n",
    "new_lst.reverse()"
   ]
  },
  {
   "cell_type": "code",
   "execution_count": 62,
   "id": "e168e092",
   "metadata": {},
   "outputs": [
    {
     "data": {
      "text/plain": [
       "['c', 'b', 'x', 'e', 'a']"
      ]
     },
     "execution_count": 62,
     "metadata": {},
     "output_type": "execute_result"
    }
   ],
   "source": [
    "new_lst"
   ]
  },
  {
   "cell_type": "code",
   "execution_count": 63,
   "id": "db5581ec",
   "metadata": {},
   "outputs": [],
   "source": [
    "new_lst.sort()"
   ]
  },
  {
   "cell_type": "code",
   "execution_count": 64,
   "id": "b28aff01",
   "metadata": {},
   "outputs": [
    {
     "data": {
      "text/plain": [
       "['a', 'b', 'c', 'e', 'x']"
      ]
     },
     "execution_count": 64,
     "metadata": {},
     "output_type": "execute_result"
    }
   ],
   "source": [
    "new_lst"
   ]
  },
  {
   "cell_type": "code",
   "execution_count": 66,
   "id": "bace4bd3",
   "metadata": {},
   "outputs": [],
   "source": [
    "sorted_list = new_lst.sort() #inplace"
   ]
  },
  {
   "cell_type": "code",
   "execution_count": 68,
   "id": "e57587b7",
   "metadata": {},
   "outputs": [
    {
     "data": {
      "text/plain": [
       "NoneType"
      ]
     },
     "execution_count": 68,
     "metadata": {},
     "output_type": "execute_result"
    }
   ],
   "source": [
    "type(sorted_list)"
   ]
  },
  {
   "cell_type": "code",
   "execution_count": 69,
   "id": "bedb8352",
   "metadata": {},
   "outputs": [],
   "source": [
    "num = [3,1,0,54]"
   ]
  },
  {
   "cell_type": "code",
   "execution_count": 70,
   "id": "b89aae5f",
   "metadata": {},
   "outputs": [],
   "source": [
    "num.sort()"
   ]
  },
  {
   "cell_type": "code",
   "execution_count": 71,
   "id": "51b86635",
   "metadata": {},
   "outputs": [
    {
     "data": {
      "text/plain": [
       "[0, 1, 3, 54]"
      ]
     },
     "execution_count": 71,
     "metadata": {},
     "output_type": "execute_result"
    }
   ],
   "source": [
    "num"
   ]
  },
  {
   "cell_type": "code",
   "execution_count": 72,
   "id": "c7c98cdc",
   "metadata": {},
   "outputs": [],
   "source": [
    "num.reverse() #descending"
   ]
  },
  {
   "cell_type": "code",
   "execution_count": 73,
   "id": "8120ba9e",
   "metadata": {},
   "outputs": [
    {
     "data": {
      "text/plain": [
       "[54, 3, 1, 0]"
      ]
     },
     "execution_count": 73,
     "metadata": {},
     "output_type": "execute_result"
    }
   ],
   "source": [
    "num"
   ]
  },
  {
   "cell_type": "code",
   "execution_count": 74,
   "id": "62e73fa8",
   "metadata": {},
   "outputs": [],
   "source": [
    "num1 = [3,1,0,54]"
   ]
  },
  {
   "cell_type": "code",
   "execution_count": 75,
   "id": "6a775ad2",
   "metadata": {},
   "outputs": [],
   "source": [
    "num1.sort(reverse=True)"
   ]
  },
  {
   "cell_type": "code",
   "execution_count": 76,
   "id": "aa848233",
   "metadata": {},
   "outputs": [
    {
     "data": {
      "text/plain": [
       "[54, 3, 1, 0]"
      ]
     },
     "execution_count": 76,
     "metadata": {},
     "output_type": "execute_result"
    }
   ],
   "source": [
    "num1"
   ]
  },
  {
   "cell_type": "code",
   "execution_count": 79,
   "id": "d1dbd3fa",
   "metadata": {},
   "outputs": [
    {
     "data": {
      "text/plain": [
       "[[1, 2, 3], [4, 5, 6], [7, 8, 9]]"
      ]
     },
     "execution_count": 79,
     "metadata": {},
     "output_type": "execute_result"
    }
   ],
   "source": [
    "mat = [[1,2,3],[4,5,6],[7,8,9]]\n",
    "mat"
   ]
  },
  {
   "cell_type": "code",
   "execution_count": 80,
   "id": "11a84e3f",
   "metadata": {},
   "outputs": [
    {
     "data": {
      "text/plain": [
       "[4, 5, 6]"
      ]
     },
     "execution_count": 80,
     "metadata": {},
     "output_type": "execute_result"
    }
   ],
   "source": [
    "mat[1]"
   ]
  },
  {
   "cell_type": "code",
   "execution_count": 88,
   "id": "962d0b10",
   "metadata": {},
   "outputs": [
    {
     "data": {
      "text/plain": [
       "6"
      ]
     },
     "execution_count": 88,
     "metadata": {},
     "output_type": "execute_result"
    }
   ],
   "source": [
    "mat[1][2]"
   ]
  },
  {
   "cell_type": "code",
   "execution_count": 89,
   "id": "10bdbd30",
   "metadata": {},
   "outputs": [
    {
     "data": {
      "text/plain": [
       "6"
      ]
     },
     "execution_count": 89,
     "metadata": {},
     "output_type": "execute_result"
    }
   ],
   "source": [
    "mat[1][-1]"
   ]
  },
  {
   "cell_type": "code",
   "execution_count": 90,
   "id": "6d4d712d",
   "metadata": {},
   "outputs": [
    {
     "data": {
      "text/plain": [
       "6"
      ]
     },
     "execution_count": 90,
     "metadata": {},
     "output_type": "execute_result"
    }
   ],
   "source": [
    "mat[-2][-1]"
   ]
  },
  {
   "cell_type": "code",
   "execution_count": 91,
   "id": "42f30e95",
   "metadata": {},
   "outputs": [
    {
     "data": {
      "text/plain": [
       "8"
      ]
     },
     "execution_count": 91,
     "metadata": {},
     "output_type": "execute_result"
    }
   ],
   "source": [
    "mat[-1][1]"
   ]
  },
  {
   "cell_type": "code",
   "execution_count": 92,
   "id": "b9b59dcb",
   "metadata": {},
   "outputs": [
    {
     "data": {
      "text/plain": [
       "[4, 5, 6]"
      ]
     },
     "execution_count": 92,
     "metadata": {},
     "output_type": "execute_result"
    }
   ],
   "source": [
    "mat[-2]"
   ]
  },
  {
   "cell_type": "code",
   "execution_count": null,
   "id": "714ed390",
   "metadata": {},
   "outputs": [],
   "source": []
  }
 ],
 "metadata": {
  "kernelspec": {
   "display_name": "Python 3 (ipykernel)",
   "language": "python",
   "name": "python3"
  },
  "language_info": {
   "codemirror_mode": {
    "name": "ipython",
    "version": 3
   },
   "file_extension": ".py",
   "mimetype": "text/x-python",
   "name": "python",
   "nbconvert_exporter": "python",
   "pygments_lexer": "ipython3",
   "version": "3.11.5"
  }
 },
 "nbformat": 4,
 "nbformat_minor": 5
}

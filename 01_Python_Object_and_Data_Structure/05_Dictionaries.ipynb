{
 "cells": [
  {
   "cell_type": "code",
   "execution_count": 1,
   "id": "92f03603",
   "metadata": {},
   "outputs": [],
   "source": [
    "my_d1 = {'key1':'value1','key2':'value2'}"
   ]
  },
  {
   "cell_type": "code",
   "execution_count": 2,
   "id": "e6c7be50",
   "metadata": {},
   "outputs": [
    {
     "data": {
      "text/plain": [
       "dict"
      ]
     },
     "execution_count": 2,
     "metadata": {},
     "output_type": "execute_result"
    }
   ],
   "source": [
    "type(my_d1)"
   ]
  },
  {
   "cell_type": "code",
   "execution_count": 7,
   "id": "63ab543c",
   "metadata": {},
   "outputs": [
    {
     "data": {
      "text/plain": [
       "'value2'"
      ]
     },
     "execution_count": 7,
     "metadata": {},
     "output_type": "execute_result"
    }
   ],
   "source": [
    "my_d1['key2']"
   ]
  },
  {
   "cell_type": "code",
   "execution_count": 4,
   "id": "469c0e2f",
   "metadata": {},
   "outputs": [
    {
     "data": {
      "text/plain": [
       "str"
      ]
     },
     "execution_count": 4,
     "metadata": {},
     "output_type": "execute_result"
    }
   ],
   "source": [
    "type(my_d1['key2'])"
   ]
  },
  {
   "cell_type": "code",
   "execution_count": 10,
   "id": "a412145f",
   "metadata": {},
   "outputs": [
    {
     "name": "stdout",
     "output_type": "stream",
     "text": [
      "VALUE2\n"
     ]
    }
   ],
   "source": [
    "print(my_d1['key2'].upper())"
   ]
  },
  {
   "cell_type": "code",
   "execution_count": 17,
   "id": "3b0ac21b",
   "metadata": {},
   "outputs": [],
   "source": [
    "my_d2 = {'a':123,'b':[12,32.78,{'nes_b':'Shreyas'}], 'c': {'nes_c':['iHUB DivyaSampark IIT Roorkee Machine Learning RBPL']}}"
   ]
  },
  {
   "cell_type": "code",
   "execution_count": 16,
   "id": "1fab7507",
   "metadata": {},
   "outputs": [
    {
     "data": {
      "text/plain": [
       "'shrey'"
      ]
     },
     "execution_count": 16,
     "metadata": {},
     "output_type": "execute_result"
    }
   ],
   "source": [
    "my_d2['b'][-1]['nes_b'].lower()[:-2]"
   ]
  },
  {
   "cell_type": "code",
   "execution_count": 24,
   "id": "8900a32a",
   "metadata": {},
   "outputs": [
    {
     "data": {
      "text/plain": [
       "51"
      ]
     },
     "execution_count": 24,
     "metadata": {},
     "output_type": "execute_result"
    }
   ],
   "source": [
    "len(my_d2['c']['nes_c'][0])"
   ]
  },
  {
   "cell_type": "code",
   "execution_count": 26,
   "id": "9ddfec32",
   "metadata": {},
   "outputs": [
    {
     "data": {
      "text/plain": [
       "'Roorkee'"
      ]
     },
     "execution_count": 26,
     "metadata": {},
     "output_type": "execute_result"
    }
   ],
   "source": [
    "my_d2['c']['nes_c'][0].split()[-4]"
   ]
  },
  {
   "cell_type": "code",
   "execution_count": 27,
   "id": "fdf4462b",
   "metadata": {},
   "outputs": [],
   "source": [
    "#creating an empty dictionary\n",
    "d = {}"
   ]
  },
  {
   "cell_type": "code",
   "execution_count": 28,
   "id": "6920db48",
   "metadata": {},
   "outputs": [],
   "source": [
    "d['animal'] = 'Dog'"
   ]
  },
  {
   "cell_type": "code",
   "execution_count": 30,
   "id": "ffa5623e",
   "metadata": {},
   "outputs": [],
   "source": [
    "d['cats'] = ['C1','C2','C3']"
   ]
  },
  {
   "cell_type": "code",
   "execution_count": 31,
   "id": "3ca77e92",
   "metadata": {},
   "outputs": [
    {
     "data": {
      "text/plain": [
       "{'animal': 'Dog', 'cats': ['C1', 'C2', 'C3']}"
      ]
     },
     "execution_count": 31,
     "metadata": {},
     "output_type": "execute_result"
    }
   ],
   "source": [
    "d"
   ]
  },
  {
   "cell_type": "markdown",
   "id": "3ff840c4",
   "metadata": {},
   "source": [
    "#### Dictionary Methods"
   ]
  },
  {
   "cell_type": "code",
   "execution_count": 32,
   "id": "85d074ab",
   "metadata": {},
   "outputs": [],
   "source": [
    "dict1 = {'k1':1,'k2':2,'k3':3}"
   ]
  },
  {
   "cell_type": "code",
   "execution_count": 33,
   "id": "6c59dc5f",
   "metadata": {},
   "outputs": [
    {
     "data": {
      "text/plain": [
       "dict_keys(['k1', 'k2', 'k3'])"
      ]
     },
     "execution_count": 33,
     "metadata": {},
     "output_type": "execute_result"
    }
   ],
   "source": [
    "#return a list of keys\n",
    "dict1.keys()"
   ]
  },
  {
   "cell_type": "code",
   "execution_count": 39,
   "id": "0a6ede00",
   "metadata": {},
   "outputs": [
    {
     "data": {
      "text/plain": [
       "dict_values([1, 2, 3])"
      ]
     },
     "execution_count": 39,
     "metadata": {},
     "output_type": "execute_result"
    }
   ],
   "source": [
    "dict1.values()"
   ]
  },
  {
   "cell_type": "code",
   "execution_count": 35,
   "id": "4545622d",
   "metadata": {},
   "outputs": [
    {
     "data": {
      "text/plain": [
       "dict_items([('k1', 1), ('k2', 2), ('k3', 3)])"
      ]
     },
     "execution_count": 35,
     "metadata": {},
     "output_type": "execute_result"
    }
   ],
   "source": [
    "dict1.items()"
   ]
  },
  {
   "cell_type": "code",
   "execution_count": null,
   "id": "4bd0e739",
   "metadata": {},
   "outputs": [],
   "source": []
  }
 ],
 "metadata": {
  "kernelspec": {
   "display_name": "Python 3 (ipykernel)",
   "language": "python",
   "name": "python3"
  },
  "language_info": {
   "codemirror_mode": {
    "name": "ipython",
    "version": 3
   },
   "file_extension": ".py",
   "mimetype": "text/x-python",
   "name": "python",
   "nbconvert_exporter": "python",
   "pygments_lexer": "ipython3",
   "version": "3.11.5"
  }
 },
 "nbformat": 4,
 "nbformat_minor": 5
}

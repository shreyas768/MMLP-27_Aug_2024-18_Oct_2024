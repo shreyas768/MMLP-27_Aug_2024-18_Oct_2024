{
 "cells": [
  {
   "cell_type": "code",
   "execution_count": 2,
   "id": "5425cde6",
   "metadata": {},
   "outputs": [
    {
     "name": "stdout",
     "output_type": "stream",
     "text": [
      "x is currently: 0\n",
      "adding 1 to x\n",
      "x is currently: 1\n",
      "adding 1 to x\n",
      "x is currently: 2\n",
      "adding 1 to x\n",
      "x is currently: 3\n",
      "adding 1 to x\n",
      "x is currently: 4\n",
      "adding 1 to x\n",
      "all done !!\n"
     ]
    }
   ],
   "source": [
    "x = 0\n",
    "\n",
    "while x < 5:\n",
    "    print('x is currently:', x)\n",
    "    print('adding 1 to x')\n",
    "    x = x+1\n",
    "else:\n",
    "    print('all done !!')"
   ]
  },
  {
   "cell_type": "code",
   "execution_count": 4,
   "id": "dda444fe",
   "metadata": {},
   "outputs": [
    {
     "name": "stdout",
     "output_type": "stream",
     "text": [
      "x is currently: 0\n",
      "adding 1 to x\n",
      "continuing..\n",
      "x is currently: 1\n",
      "adding 1 to x\n",
      "continuing..\n",
      "x is currently: 2\n",
      "adding 1 to x\n",
      "x==3\n",
      "x is currently: 3\n",
      "adding 1 to x\n",
      "continuing..\n",
      "x is currently: 4\n",
      "adding 1 to x\n",
      "continuing..\n",
      "x is currently: 5\n",
      "adding 1 to x\n",
      "continuing..\n",
      "x is currently: 6\n",
      "adding 1 to x\n",
      "continuing..\n",
      "x is currently: 7\n",
      "adding 1 to x\n",
      "continuing..\n",
      "x is currently: 8\n",
      "adding 1 to x\n",
      "continuing..\n",
      "x is currently: 9\n",
      "adding 1 to x\n",
      "continuing..\n"
     ]
    }
   ],
   "source": [
    "#break : breaks out of current closest enclosing loop\n",
    "#continue : goes to the top of the closest enclosing loop\n",
    "\n",
    "x = 0\n",
    "\n",
    "while x < 10:\n",
    "    print('x is currently:', x)\n",
    "    print('adding 1 to x')\n",
    "    x = x+1\n",
    "    if x == 3:\n",
    "        print('x==3')\n",
    "    else:\n",
    "        print('continuing..')\n",
    "        continue"
   ]
  },
  {
   "cell_type": "code",
   "execution_count": 6,
   "id": "38c14a0d",
   "metadata": {},
   "outputs": [
    {
     "name": "stdout",
     "output_type": "stream",
     "text": [
      "x is currently: 0\n",
      "adding 1 to x\n",
      "continuing..\n",
      "x is currently: 2\n",
      "adding 1 to x\n",
      "continuing..\n",
      "x is currently: 4\n",
      "adding 1 to x\n",
      "continuing..\n",
      "x is currently: 6\n",
      "adding 1 to x\n",
      "continuing..\n",
      "x is currently: 8\n",
      "adding 1 to x\n",
      "continuing..\n"
     ]
    }
   ],
   "source": [
    "x = 0\n",
    "\n",
    "while x < 10:\n",
    "    print('x is currently:', x)\n",
    "    print('adding 1 to x')\n",
    "    x = x+2\n",
    "    if x == 3:\n",
    "        print('x==3')\n",
    "        break\n",
    "    else:\n",
    "        print('continuing..')\n",
    "        continue"
   ]
  },
  {
   "cell_type": "code",
   "execution_count": null,
   "id": "cfa5a2d5",
   "metadata": {},
   "outputs": [],
   "source": []
  }
 ],
 "metadata": {
  "kernelspec": {
   "display_name": "Python 3 (ipykernel)",
   "language": "python",
   "name": "python3"
  },
  "language_info": {
   "codemirror_mode": {
    "name": "ipython",
    "version": 3
   },
   "file_extension": ".py",
   "mimetype": "text/x-python",
   "name": "python",
   "nbconvert_exporter": "python",
   "pygments_lexer": "ipython3",
   "version": "3.11.5"
  }
 },
 "nbformat": 4,
 "nbformat_minor": 5
}

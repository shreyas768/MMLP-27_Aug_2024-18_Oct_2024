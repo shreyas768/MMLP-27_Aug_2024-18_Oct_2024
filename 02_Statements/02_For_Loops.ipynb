{
 "cells": [
  {
   "cell_type": "code",
   "execution_count": 4,
   "id": "58489762",
   "metadata": {},
   "outputs": [
    {
     "name": "stdout",
     "output_type": "stream",
     "text": [
      "202\n",
      "24\n",
      "46\n"
     ]
    }
   ],
   "source": [
    "my_iteration = [101,12,23]\n",
    "for x in my_iteration:\n",
    "    print(len('hi')*x)"
   ]
  },
  {
   "cell_type": "code",
   "execution_count": 5,
   "id": "de852097",
   "metadata": {},
   "outputs": [
    {
     "name": "stdout",
     "output_type": "stream",
     "text": [
      "2\n",
      "4\n",
      "6\n",
      "8\n"
     ]
    }
   ],
   "source": [
    "lst1 = [1,2,3,4,5,6,7,8,9]\n",
    "\n",
    "for n in lst1:\n",
    "    if n%2 == 0:\n",
    "        print(n)"
   ]
  },
  {
   "cell_type": "code",
   "execution_count": 6,
   "id": "e8a7f5bd",
   "metadata": {},
   "outputs": [
    {
     "name": "stdout",
     "output_type": "stream",
     "text": [
      "1\n",
      "Even\n",
      "3\n",
      "Even\n",
      "5\n",
      "Even\n",
      "7\n",
      "Even\n",
      "9\n"
     ]
    }
   ],
   "source": [
    "for n in lst1:\n",
    "    if n%2 == 0:\n",
    "        print('Even')\n",
    "    else:\n",
    "        print(n)"
   ]
  },
  {
   "cell_type": "code",
   "execution_count": 9,
   "id": "1f78e506",
   "metadata": {},
   "outputs": [
    {
     "data": {
      "text/plain": [
       "[1, 2, 3, 4, 5, 6, 7, 8, 9]"
      ]
     },
     "execution_count": 9,
     "metadata": {},
     "output_type": "execute_result"
    }
   ],
   "source": [
    "lst1"
   ]
  },
  {
   "cell_type": "code",
   "execution_count": 8,
   "id": "1142345f",
   "metadata": {},
   "outputs": [
    {
     "name": "stdout",
     "output_type": "stream",
     "text": [
      "45\n"
     ]
    }
   ],
   "source": [
    "lst_sum = 0\n",
    "\n",
    "for n in lst1:\n",
    "    lst_sum += n #lst_sum = lst_sum + n\n",
    "print(lst_sum)"
   ]
  },
  {
   "cell_type": "code",
   "execution_count": 10,
   "id": "f3a6a93f",
   "metadata": {},
   "outputs": [
    {
     "name": "stdout",
     "output_type": "stream",
     "text": [
      "1\n",
      "3\n",
      "6\n",
      "10\n",
      "15\n",
      "21\n",
      "28\n",
      "36\n",
      "45\n"
     ]
    }
   ],
   "source": [
    "lst_sum = 0\n",
    "\n",
    "for n in lst1:\n",
    "    lst_sum += n #lst_sum = lst_sum + n\n",
    "    print(lst_sum)"
   ]
  },
  {
   "cell_type": "code",
   "execution_count": 12,
   "id": "ced48ca9",
   "metadata": {},
   "outputs": [
    {
     "name": "stdout",
     "output_type": "stream",
     "text": [
      "T\n",
      "H\n",
      "I\n",
      "S\n",
      " \n",
      "I\n",
      "S\n",
      " \n",
      "A\n",
      " \n",
      "S\n",
      "T\n",
      "R\n",
      "I\n",
      "N\n",
      "G\n"
     ]
    }
   ],
   "source": [
    "for l in 'this is a string':\n",
    "    print(l.upper())"
   ]
  },
  {
   "cell_type": "code",
   "execution_count": 13,
   "id": "ac5ae3ae",
   "metadata": {},
   "outputs": [
    {
     "name": "stdout",
     "output_type": "stream",
     "text": [
      "13\n",
      "14\n",
      "15\n",
      "16\n",
      "17\n",
      "18\n"
     ]
    }
   ],
   "source": [
    "tup = (1,2,3,4,5,6)\n",
    "\n",
    "for t in tup:\n",
    "    print(t+12)"
   ]
  },
  {
   "cell_type": "code",
   "execution_count": 14,
   "id": "69d88eaa",
   "metadata": {},
   "outputs": [
    {
     "name": "stdout",
     "output_type": "stream",
     "text": [
      "(1, 2)\n",
      "(3, 4)\n",
      "(5, 6)\n",
      "(7, 8)\n"
     ]
    }
   ],
   "source": [
    "lst2 = [(1,2),(3,4),(5,6),(7,8)]\n",
    "\n",
    "for t in lst2:\n",
    "    print(t)"
   ]
  },
  {
   "cell_type": "code",
   "execution_count": 16,
   "id": "b72fe65c",
   "metadata": {},
   "outputs": [
    {
     "name": "stdout",
     "output_type": "stream",
     "text": [
      "2\n",
      "12\n",
      "30\n",
      "56\n"
     ]
    }
   ],
   "source": [
    "for t1,t2 in lst2:\n",
    "    print(t1*t2)\n",
    "\n",
    "#tuple unpacking"
   ]
  },
  {
   "cell_type": "code",
   "execution_count": 17,
   "id": "b3801cd6",
   "metadata": {},
   "outputs": [
    {
     "name": "stdout",
     "output_type": "stream",
     "text": [
      "k1\n",
      "k2\n",
      "k3\n"
     ]
    }
   ],
   "source": [
    "d1 = {'k1':1,'k2':2,'k3':3}\n",
    "\n",
    "for i in d1:\n",
    "    print(i)"
   ]
  },
  {
   "cell_type": "code",
   "execution_count": 18,
   "id": "43fc4569",
   "metadata": {},
   "outputs": [
    {
     "data": {
      "text/plain": [
       "dict_items([('k1', 1), ('k2', 2), ('k3', 3)])"
      ]
     },
     "execution_count": 18,
     "metadata": {},
     "output_type": "execute_result"
    }
   ],
   "source": [
    "#.keys(), #.values(), #.items()\n",
    "\n",
    "d1.items()"
   ]
  },
  {
   "cell_type": "code",
   "execution_count": 21,
   "id": "cdbd08ad",
   "metadata": {},
   "outputs": [
    {
     "name": "stdout",
     "output_type": "stream",
     "text": [
      "k1\n",
      "1\n",
      "k2\n",
      "2\n",
      "k3\n",
      "3\n"
     ]
    }
   ],
   "source": [
    "#dictionary unpacking\n",
    "\n",
    "for k, v in d1.items():\n",
    "    print(k)\n",
    "    print(v)"
   ]
  },
  {
   "cell_type": "code",
   "execution_count": 26,
   "id": "e1a2bbe8",
   "metadata": {
    "scrolled": true
   },
   "outputs": [
    {
     "name": "stdout",
     "output_type": "stream",
     "text": [
      "Enter a string here: Sachin is a great athelete. His stamina is awesome and strength too\n",
      "Sachin\n",
      "stamina\n",
      "strength\n"
     ]
    }
   ],
   "source": [
    "st = input('Enter a string here: ')\n",
    "\n",
    "for i in st.split():\n",
    "    if i[0].lower() == 's':\n",
    "        print(i)"
   ]
  },
  {
   "cell_type": "code",
   "execution_count": 1,
   "id": "efbadda4",
   "metadata": {},
   "outputs": [
    {
     "name": "stdout",
     "output_type": "stream",
     "text": [
      "Enter a string here: Sachin is a great athelete. His stamina is awesome and strength too\n"
     ]
    },
    {
     "data": {
      "text/plain": [
       "['Sachin', 'stamina', 'strength']"
      ]
     },
     "execution_count": 1,
     "metadata": {},
     "output_type": "execute_result"
    }
   ],
   "source": []
  },
  {
   "cell_type": "code",
   "execution_count": null,
   "id": "56d7380c",
   "metadata": {},
   "outputs": [],
   "source": []
  }
 ],
 "metadata": {
  "kernelspec": {
   "display_name": "Python 3 (ipykernel)",
   "language": "python",
   "name": "python3"
  },
  "language_info": {
   "codemirror_mode": {
    "name": "ipython",
    "version": 3
   },
   "file_extension": ".py",
   "mimetype": "text/x-python",
   "name": "python",
   "nbconvert_exporter": "python",
   "pygments_lexer": "ipython3",
   "version": "3.11.5"
  }
 },
 "nbformat": 4,
 "nbformat_minor": 5
}

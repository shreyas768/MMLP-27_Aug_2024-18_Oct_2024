{
 "cells": [
  {
   "cell_type": "code",
   "execution_count": 4,
   "id": "c835ac6c",
   "metadata": {},
   "outputs": [],
   "source": [
    "lst = []\n",
    "for l in 'word':\n",
    "    lst.append(l*2)\n",
    "    "
   ]
  },
  {
   "cell_type": "code",
   "execution_count": 6,
   "id": "a815ad78",
   "metadata": {},
   "outputs": [
    {
     "data": {
      "text/plain": [
       "['w', 'o', 'r', 'd']"
      ]
     },
     "execution_count": 6,
     "metadata": {},
     "output_type": "execute_result"
    }
   ],
   "source": [
    "[x for x in 'word']"
   ]
  },
  {
   "cell_type": "code",
   "execution_count": 7,
   "id": "9ebd67be",
   "metadata": {},
   "outputs": [
    {
     "data": {
      "text/plain": [
       "[0, 8, 64, 216, 512, 1000]"
      ]
     },
     "execution_count": 7,
     "metadata": {},
     "output_type": "execute_result"
    }
   ],
   "source": [
    "[n**3 for n in range(0,11,2)]"
   ]
  },
  {
   "cell_type": "code",
   "execution_count": 11,
   "id": "6a85d827",
   "metadata": {},
   "outputs": [
    {
     "data": {
      "text/plain": [
       "[48, 54, 60, 66, 72, 78, 84, 90]"
      ]
     },
     "execution_count": 11,
     "metadata": {},
     "output_type": "execute_result"
    }
   ],
   "source": [
    "#add in if statements\n",
    "\n",
    "[n*3 for n in range(0,31,2) if n > 15 ]"
   ]
  },
  {
   "cell_type": "code",
   "execution_count": 18,
   "id": "5be014ff",
   "metadata": {},
   "outputs": [
    {
     "data": {
      "text/plain": [
       "[32.0, 53.6, 68.18, 94.28]"
      ]
     },
     "execution_count": 18,
     "metadata": {},
     "output_type": "execute_result"
    }
   ],
   "source": [
    "celsius = [0,12,20.1,34.6]\n",
    "\n",
    "[(9/5)*C+32 for C in celsius]"
   ]
  },
  {
   "cell_type": "code",
   "execution_count": 20,
   "id": "620ec646",
   "metadata": {},
   "outputs": [
    {
     "data": {
      "text/plain": [
       "['e', 'a', 't', 'f', 'e', 't', 'r', 'f', 'y', 'd', 'n', 's', 'g']"
      ]
     },
     "execution_count": 20,
     "metadata": {},
     "output_type": "execute_result"
    }
   ],
   "source": [
    "st = 'Create a list of the last letter of every word in this string'\n",
    "\n",
    "[s[-1] for s in st.split()]"
   ]
  },
  {
   "cell_type": "code",
   "execution_count": 21,
   "id": "19b59955",
   "metadata": {},
   "outputs": [
    {
     "name": "stdout",
     "output_type": "stream",
     "text": [
      "Enter a string here: Create a list of the last letter of every word in this string\n"
     ]
    },
    {
     "data": {
      "text/plain": [
       "['string']"
      ]
     },
     "execution_count": 21,
     "metadata": {},
     "output_type": "execute_result"
    }
   ],
   "source": [
    "st = input('Enter a string here: ')\n",
    "\n",
    "[i for i in st.split() if i[0].lower() == 's']"
   ]
  },
  {
   "cell_type": "code",
   "execution_count": 23,
   "id": "1444ff7d",
   "metadata": {},
   "outputs": [
    {
     "data": {
      "text/plain": [
       "[48.0, 80.4, 102.27000000000001, 141.42000000000002]"
      ]
     },
     "execution_count": 23,
     "metadata": {},
     "output_type": "execute_result"
    }
   ],
   "source": [
    "[i/2 for i in [n*3 for n in [(9/5)*C+32 for C in celsius]]]"
   ]
  },
  {
   "cell_type": "code",
   "execution_count": null,
   "id": "f3341dab",
   "metadata": {},
   "outputs": [],
   "source": []
  }
 ],
 "metadata": {
  "kernelspec": {
   "display_name": "Python 3 (ipykernel)",
   "language": "python",
   "name": "python3"
  },
  "language_info": {
   "codemirror_mode": {
    "name": "ipython",
    "version": 3
   },
   "file_extension": ".py",
   "mimetype": "text/x-python",
   "name": "python",
   "nbconvert_exporter": "python",
   "pygments_lexer": "ipython3",
   "version": "3.11.5"
  }
 },
 "nbformat": 4,
 "nbformat_minor": 5
}

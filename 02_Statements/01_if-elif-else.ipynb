{
 "cells": [
  {
   "cell_type": "code",
   "execution_count": 1,
   "id": "d9cf6856",
   "metadata": {},
   "outputs": [
    {
     "name": "stdout",
     "output_type": "stream",
     "text": [
      "It was True\n"
     ]
    }
   ],
   "source": [
    "if 2 < 3:\n",
    "    print('It was True')"
   ]
  },
  {
   "cell_type": "code",
   "execution_count": 2,
   "id": "2dd69e11",
   "metadata": {},
   "outputs": [],
   "source": [
    "if 2 > 3:\n",
    "    print('It was True')"
   ]
  },
  {
   "cell_type": "code",
   "execution_count": 3,
   "id": "6f031e9d",
   "metadata": {},
   "outputs": [
    {
     "name": "stdout",
     "output_type": "stream",
     "text": [
      "this is false\n"
     ]
    }
   ],
   "source": [
    "if 2 > 3:\n",
    "    print('True')\n",
    "else:\n",
    "    print('this is false')"
   ]
  },
  {
   "cell_type": "code",
   "execution_count": 4,
   "id": "ea004f19",
   "metadata": {},
   "outputs": [
    {
     "name": "stdout",
     "output_type": "stream",
     "text": [
      "x<y\n"
     ]
    }
   ],
   "source": [
    "x = 902190/821983\n",
    "y = 11/4\n",
    "\n",
    "if x > y:\n",
    "    print('x>y')\n",
    "else:\n",
    "    print('x<y')"
   ]
  },
  {
   "cell_type": "code",
   "execution_count": 6,
   "id": "71934298",
   "metadata": {},
   "outputs": [
    {
     "name": "stdout",
     "output_type": "stream",
     "text": [
      "you are at wrong place\n"
     ]
    }
   ],
   "source": [
    "loc = 'Railway Station'\n",
    "\n",
    "if loc == 'Bank':\n",
    "    print('welcome to bank')\n",
    "elif loc == 'Auto Shop':\n",
    "    print('this is AutoShop')\n",
    "elif loc == 'Stadium':\n",
    "    print('Welcome Messi')\n",
    "else:\n",
    "    print('you are at wrong place')"
   ]
  },
  {
   "cell_type": "code",
   "execution_count": null,
   "id": "706df4b4",
   "metadata": {},
   "outputs": [],
   "source": []
  }
 ],
 "metadata": {
  "kernelspec": {
   "display_name": "Python 3 (ipykernel)",
   "language": "python",
   "name": "python3"
  },
  "language_info": {
   "codemirror_mode": {
    "name": "ipython",
    "version": 3
   },
   "file_extension": ".py",
   "mimetype": "text/x-python",
   "name": "python",
   "nbconvert_exporter": "python",
   "pygments_lexer": "ipython3",
   "version": "3.11.5"
  }
 },
 "nbformat": 4,
 "nbformat_minor": 5
}

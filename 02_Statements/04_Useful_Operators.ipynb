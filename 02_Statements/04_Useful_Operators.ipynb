{
 "cells": [
  {
   "cell_type": "code",
   "execution_count": 2,
   "id": "67cd1927",
   "metadata": {},
   "outputs": [
    {
     "data": {
      "text/plain": [
       "range(0, 11)"
      ]
     },
     "execution_count": 2,
     "metadata": {},
     "output_type": "execute_result"
    }
   ],
   "source": [
    "#range: generate a list of integers\n",
    "\n",
    "range(0,11)  #generator function; have to cast it to list/tuple etc."
   ]
  },
  {
   "cell_type": "code",
   "execution_count": 3,
   "id": "ee9e7f26",
   "metadata": {},
   "outputs": [
    {
     "data": {
      "text/plain": [
       "[0, 1, 2, 3, 4, 5, 6, 7, 8, 9, 10]"
      ]
     },
     "execution_count": 3,
     "metadata": {},
     "output_type": "execute_result"
    }
   ],
   "source": [
    "list(range(0,11))"
   ]
  },
  {
   "cell_type": "code",
   "execution_count": 4,
   "id": "53a75fc9",
   "metadata": {},
   "outputs": [
    {
     "data": {
      "text/plain": [
       "[0, 2, 4, 6, 8, 10]"
      ]
     },
     "execution_count": 4,
     "metadata": {},
     "output_type": "execute_result"
    }
   ],
   "source": [
    "list(range(0,11,2))"
   ]
  },
  {
   "cell_type": "markdown",
   "id": "58ed34c9",
   "metadata": {},
   "source": [
    "## enumerate"
   ]
  },
  {
   "cell_type": "code",
   "execution_count": 13,
   "id": "79232892",
   "metadata": {},
   "outputs": [
    {
     "name": "stdout",
     "output_type": "stream",
     "text": [
      "At index 0 the letter is a\n",
      "At index 1 the letter is b\n",
      "At index 2 the letter is c\n",
      "At index 3 the letter is d\n",
      "At index 4 the letter is e\n"
     ]
    }
   ],
   "source": [
    "idx_count = 0\n",
    "for l in 'abcde':\n",
    "    print(f\"At index {idx_count} the letter is {l}\")\n",
    "    idx_count += 1"
   ]
  },
  {
   "cell_type": "code",
   "execution_count": 8,
   "id": "4bcc4db7",
   "metadata": {},
   "outputs": [
    {
     "data": {
      "text/plain": [
       "[(0, 'a'), (1, 'b'), (2, 'c'), (3, 'd'), (4, 'e')]"
      ]
     },
     "execution_count": 8,
     "metadata": {},
     "output_type": "execute_result"
    }
   ],
   "source": [
    "list(enumerate('abcde'))"
   ]
  },
  {
   "cell_type": "code",
   "execution_count": 10,
   "id": "f798b1a9",
   "metadata": {},
   "outputs": [
    {
     "name": "stdout",
     "output_type": "stream",
     "text": [
      "At index 0 the letter is a\n",
      "At index 1 the letter is b\n",
      "At index 2 the letter is c\n",
      "At index 3 the letter is d\n",
      "At index 4 the letter is e\n"
     ]
    }
   ],
   "source": [
    "for idx_count1, l1 in enumerate('abcde'):\n",
    "    print(f\"At index {idx_count1} the letter is {l1}\")"
   ]
  },
  {
   "cell_type": "code",
   "execution_count": 11,
   "id": "b378d889",
   "metadata": {},
   "outputs": [
    {
     "data": {
      "text/plain": [
       "[(1, 'a'), (2, 'b'), (3, 'c'), (4, 'd'), (5, 'e')]"
      ]
     },
     "execution_count": 11,
     "metadata": {},
     "output_type": "execute_result"
    }
   ],
   "source": [
    "lst1 = [1,2,3,4,5]\n",
    "lst2 = ['a','b','c','d','e']\n",
    "\n",
    "list(zip(lst1,lst2))"
   ]
  },
  {
   "cell_type": "code",
   "execution_count": 14,
   "id": "5d9475cc",
   "metadata": {},
   "outputs": [
    {
     "name": "stdout",
     "output_type": "stream",
     "text": [
      "14\n",
      "17\n",
      "28\n",
      "28\n",
      "50\n"
     ]
    }
   ],
   "source": [
    "#create any two lists of same length\n",
    "#zip\n",
    "#for loop and do some exceution\n",
    "\n",
    "lst3 = [11,12,23,24,45]\n",
    "lst4 = ['ads','bgsfa','cggsd','ddds','erwre']\n",
    "\n",
    "for i, v in zip(lst3,lst4):\n",
    "    print(i+len(v))"
   ]
  },
  {
   "cell_type": "code",
   "execution_count": 15,
   "id": "3f13012c",
   "metadata": {},
   "outputs": [
    {
     "data": {
      "text/plain": [
       "True"
      ]
     },
     "execution_count": 15,
     "metadata": {},
     "output_type": "execute_result"
    }
   ],
   "source": [
    "#in operator\n",
    "'ads' in ['ads','bgsfa','cggsd','ddds','erwre']"
   ]
  },
  {
   "cell_type": "code",
   "execution_count": 16,
   "id": "58ec1868",
   "metadata": {},
   "outputs": [
    {
     "data": {
      "text/plain": [
       "False"
      ]
     },
     "execution_count": 16,
     "metadata": {},
     "output_type": "execute_result"
    }
   ],
   "source": [
    "'hi' in [11,12,23,24,45]"
   ]
  },
  {
   "cell_type": "code",
   "execution_count": 17,
   "id": "e45b0ec2",
   "metadata": {},
   "outputs": [
    {
     "data": {
      "text/plain": [
       "False"
      ]
     },
     "execution_count": 17,
     "metadata": {},
     "output_type": "execute_result"
    }
   ],
   "source": [
    "#not in operator\n",
    "'ads' not in ['ads','bgsfa','cggsd','ddds','erwre']"
   ]
  },
  {
   "cell_type": "code",
   "execution_count": 18,
   "id": "5cc564c9",
   "metadata": {},
   "outputs": [
    {
     "data": {
      "text/plain": [
       "True"
      ]
     },
     "execution_count": 18,
     "metadata": {},
     "output_type": "execute_result"
    }
   ],
   "source": [
    "'hi' not in [11,12,23,24,45]"
   ]
  },
  {
   "cell_type": "code",
   "execution_count": 19,
   "id": "9d6af2b8",
   "metadata": {},
   "outputs": [
    {
     "data": {
      "text/plain": [
       "[11, 12, 23, 24, 45]"
      ]
     },
     "execution_count": 19,
     "metadata": {},
     "output_type": "execute_result"
    }
   ],
   "source": [
    "lst3"
   ]
  },
  {
   "cell_type": "code",
   "execution_count": 20,
   "id": "0295f50b",
   "metadata": {},
   "outputs": [
    {
     "data": {
      "text/plain": [
       "11"
      ]
     },
     "execution_count": 20,
     "metadata": {},
     "output_type": "execute_result"
    }
   ],
   "source": [
    "min(lst3)"
   ]
  },
  {
   "cell_type": "code",
   "execution_count": 21,
   "id": "746232aa",
   "metadata": {},
   "outputs": [
    {
     "data": {
      "text/plain": [
       "45"
      ]
     },
     "execution_count": 21,
     "metadata": {},
     "output_type": "execute_result"
    }
   ],
   "source": [
    "max(lst3)"
   ]
  },
  {
   "cell_type": "code",
   "execution_count": 22,
   "id": "ccc54b33",
   "metadata": {},
   "outputs": [
    {
     "data": {
      "text/plain": [
       "115"
      ]
     },
     "execution_count": 22,
     "metadata": {},
     "output_type": "execute_result"
    }
   ],
   "source": [
    "sum(lst3)"
   ]
  },
  {
   "cell_type": "code",
   "execution_count": 23,
   "id": "aefac687",
   "metadata": {},
   "outputs": [
    {
     "name": "stdout",
     "output_type": "stream",
     "text": [
      "Enter something into this box: klashlksa\n"
     ]
    },
    {
     "data": {
      "text/plain": [
       "'klashlksa'"
      ]
     },
     "execution_count": 23,
     "metadata": {},
     "output_type": "execute_result"
    }
   ],
   "source": [
    "#input\n",
    "\n",
    "input('Enter something into this box: ')"
   ]
  },
  {
   "cell_type": "markdown",
   "id": "7265b085",
   "metadata": {},
   "source": [
    "#### Write a program that prints the integers from 1 to 100. But for multiples of 3,  prints 'MMLP' instead of the number and for multiples of 7 print your name. For numbers which are multiple of both 3 and 7 , print 'Shreyas'"
   ]
  },
  {
   "cell_type": "code",
   "execution_count": 1,
   "id": "15bcc143",
   "metadata": {},
   "outputs": [
    {
     "name": "stdout",
     "output_type": "stream",
     "text": [
      "1\n",
      "2\n",
      "MMLP\n",
      "4\n",
      "5\n",
      "MMLP\n",
      "Shreyas Shukla\n",
      "8\n",
      "MMLP\n",
      "10\n",
      "11\n",
      "MMLP\n",
      "13\n",
      "Shreyas Shukla\n",
      "MMLP\n",
      "16\n",
      "17\n",
      "MMLP\n",
      "19\n",
      "20\n",
      "Shreyas\n",
      "22\n",
      "23\n",
      "MMLP\n",
      "25\n",
      "26\n",
      "MMLP\n",
      "Shreyas Shukla\n",
      "29\n",
      "MMLP\n",
      "31\n",
      "32\n",
      "MMLP\n",
      "34\n",
      "Shreyas Shukla\n",
      "MMLP\n",
      "37\n",
      "38\n",
      "MMLP\n",
      "40\n",
      "41\n",
      "Shreyas\n",
      "43\n",
      "44\n",
      "MMLP\n",
      "46\n",
      "47\n",
      "MMLP\n",
      "Shreyas Shukla\n",
      "50\n",
      "MMLP\n",
      "52\n",
      "53\n",
      "MMLP\n",
      "55\n",
      "Shreyas Shukla\n",
      "MMLP\n",
      "58\n",
      "59\n",
      "MMLP\n",
      "61\n",
      "62\n",
      "Shreyas\n",
      "64\n",
      "65\n",
      "MMLP\n",
      "67\n",
      "68\n",
      "MMLP\n",
      "Shreyas Shukla\n",
      "71\n",
      "MMLP\n",
      "73\n",
      "74\n",
      "MMLP\n",
      "76\n",
      "Shreyas Shukla\n",
      "MMLP\n",
      "79\n",
      "80\n",
      "MMLP\n",
      "82\n",
      "83\n",
      "Shreyas\n",
      "85\n",
      "86\n",
      "MMLP\n",
      "88\n",
      "89\n",
      "MMLP\n",
      "Shreyas Shukla\n",
      "92\n",
      "MMLP\n",
      "94\n",
      "95\n",
      "MMLP\n",
      "97\n",
      "Shreyas Shukla\n",
      "MMLP\n",
      "100\n"
     ]
    }
   ],
   "source": [
    "for n in range(1,101):\n",
    "    if n%3 == 0 and n%7 == 0:\n",
    "        print('Shreyas')\n",
    "    elif n%3 == 0:\n",
    "        print('MMLP')\n",
    "    elif n%7 == 0:\n",
    "        print('Shreyas Shukla')\n",
    "    else:\n",
    "        print(n)"
   ]
  },
  {
   "cell_type": "code",
   "execution_count": 2,
   "id": "a6bee071",
   "metadata": {},
   "outputs": [
    {
     "name": "stdout",
     "output_type": "stream",
     "text": [
      "1\n",
      "2\n",
      "MMLP\n",
      "4\n",
      "5\n",
      "MMLP\n",
      "Shreyas Shukla\n",
      "8\n",
      "MMLP\n",
      "10\n",
      "11\n",
      "MMLP\n",
      "13\n",
      "Shreyas Shukla\n",
      "MMLP\n",
      "16\n",
      "17\n",
      "MMLP\n",
      "19\n",
      "20\n",
      "Shreyas Shukla\n",
      "22\n",
      "23\n",
      "MMLP\n",
      "25\n",
      "26\n",
      "MMLP\n",
      "Shreyas Shukla\n",
      "29\n",
      "MMLP\n",
      "31\n",
      "32\n",
      "MMLP\n",
      "34\n",
      "Shreyas Shukla\n",
      "MMLP\n",
      "37\n",
      "38\n",
      "MMLP\n",
      "40\n",
      "41\n",
      "Shreyas Shukla\n",
      "43\n",
      "44\n",
      "MMLP\n",
      "46\n",
      "47\n",
      "MMLP\n",
      "Shreyas Shukla\n",
      "50\n",
      "MMLP\n",
      "52\n",
      "53\n",
      "MMLP\n",
      "55\n",
      "Shreyas Shukla\n",
      "MMLP\n",
      "58\n",
      "59\n",
      "MMLP\n",
      "61\n",
      "62\n",
      "Shreyas Shukla\n",
      "64\n",
      "65\n",
      "MMLP\n",
      "67\n",
      "68\n",
      "MMLP\n",
      "Shreyas Shukla\n",
      "71\n",
      "MMLP\n",
      "73\n",
      "74\n",
      "MMLP\n",
      "76\n",
      "Shreyas Shukla\n",
      "MMLP\n",
      "79\n",
      "80\n",
      "MMLP\n",
      "82\n",
      "83\n",
      "Shreyas Shukla\n",
      "85\n",
      "86\n",
      "MMLP\n",
      "88\n",
      "89\n",
      "MMLP\n",
      "Shreyas Shukla\n",
      "92\n",
      "MMLP\n",
      "94\n",
      "95\n",
      "MMLP\n",
      "97\n",
      "Shreyas Shukla\n",
      "MMLP\n",
      "100\n"
     ]
    }
   ],
   "source": [
    "for n in range(1,101):\n",
    "    if n%7 == 0:\n",
    "        print('Shreyas Shukla')\n",
    "    elif n%3 == 0:\n",
    "        print('MMLP')\n",
    "    elif n%3 == 0 and n%7 == 0:\n",
    "        print('Shreyas')\n",
    "    else:\n",
    "        print(n)"
   ]
  },
  {
   "cell_type": "code",
   "execution_count": null,
   "id": "71b87646",
   "metadata": {},
   "outputs": [],
   "source": []
  }
 ],
 "metadata": {
  "kernelspec": {
   "display_name": "Python 3 (ipykernel)",
   "language": "python",
   "name": "python3"
  },
  "language_info": {
   "codemirror_mode": {
    "name": "ipython",
    "version": 3
   },
   "file_extension": ".py",
   "mimetype": "text/x-python",
   "name": "python",
   "nbconvert_exporter": "python",
   "pygments_lexer": "ipython3",
   "version": "3.11.5"
  }
 },
 "nbformat": 4,
 "nbformat_minor": 5
}

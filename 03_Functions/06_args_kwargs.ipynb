{
 "cells": [
  {
   "cell_type": "code",
   "execution_count": 1,
   "id": "51e60d67",
   "metadata": {},
   "outputs": [],
   "source": [
    "def myfunc(a,b):\n",
    "    return sum((a,b))*.05"
   ]
  },
  {
   "cell_type": "code",
   "execution_count": 2,
   "id": "1c2a173c",
   "metadata": {},
   "outputs": [
    {
     "data": {
      "text/plain": [
       "3.1500000000000004"
      ]
     },
     "execution_count": 2,
     "metadata": {},
     "output_type": "execute_result"
    }
   ],
   "source": [
    "myfunc(40,23)"
   ]
  },
  {
   "cell_type": "code",
   "execution_count": 9,
   "id": "c1b5f786",
   "metadata": {},
   "outputs": [],
   "source": [
    "def myfunc(a=0,b=0,c=0,d=0,e=100):\n",
    "    return sum((a,b,c,d,e))*0.05"
   ]
  },
  {
   "cell_type": "code",
   "execution_count": 10,
   "id": "5310c6b5",
   "metadata": {},
   "outputs": [
    {
     "data": {
      "text/plain": [
       "3.25"
      ]
     },
     "execution_count": 10,
     "metadata": {},
     "output_type": "execute_result"
    }
   ],
   "source": [
    "myfunc(11,12,13,14,15)"
   ]
  },
  {
   "cell_type": "code",
   "execution_count": 11,
   "id": "d8527f96",
   "metadata": {},
   "outputs": [
    {
     "data": {
      "text/plain": [
       "6.15"
      ]
     },
     "execution_count": 11,
     "metadata": {},
     "output_type": "execute_result"
    }
   ],
   "source": [
    "myfunc(11,12)"
   ]
  },
  {
   "cell_type": "code",
   "execution_count": 12,
   "id": "b3aa1ba4",
   "metadata": {},
   "outputs": [
    {
     "ename": "TypeError",
     "evalue": "myfunc() takes from 0 to 5 positional arguments but 6 were given",
     "output_type": "error",
     "traceback": [
      "\u001b[0;31m---------------------------------------------------------------------------\u001b[0m",
      "\u001b[0;31mTypeError\u001b[0m                                 Traceback (most recent call last)",
      "Cell \u001b[0;32mIn[12], line 1\u001b[0m\n\u001b[0;32m----> 1\u001b[0m myfunc(\u001b[38;5;241m11\u001b[39m,\u001b[38;5;241m12\u001b[39m,\u001b[38;5;241m13\u001b[39m,\u001b[38;5;241m14\u001b[39m,\u001b[38;5;241m154\u001b[39m,\u001b[38;5;241m16\u001b[39m)\n",
      "\u001b[0;31mTypeError\u001b[0m: myfunc() takes from 0 to 5 positional arguments but 6 were given"
     ]
    }
   ],
   "source": [
    "myfunc(11,12,13,14,154,16)"
   ]
  },
  {
   "cell_type": "markdown",
   "id": "f6d61280",
   "metadata": {},
   "source": [
    "# *args"
   ]
  },
  {
   "cell_type": "code",
   "execution_count": 13,
   "id": "55fd1bf8",
   "metadata": {},
   "outputs": [],
   "source": [
    "def myfunc(*args):\n",
    "    return sum(args)*0.05"
   ]
  },
  {
   "cell_type": "code",
   "execution_count": 14,
   "id": "68025512",
   "metadata": {},
   "outputs": [
    {
     "data": {
      "text/plain": [
       "11.25"
      ]
     },
     "execution_count": 14,
     "metadata": {},
     "output_type": "execute_result"
    }
   ],
   "source": [
    "myfunc(11,1,2,13,23,21,89,43,22)"
   ]
  },
  {
   "cell_type": "code",
   "execution_count": 15,
   "id": "adfe9bc2",
   "metadata": {},
   "outputs": [],
   "source": [
    "def myfunc(*x):\n",
    "    return sum(x)*12"
   ]
  },
  {
   "cell_type": "code",
   "execution_count": 16,
   "id": "3e75b6c2",
   "metadata": {},
   "outputs": [
    {
     "data": {
      "text/plain": [
       "25476"
      ]
     },
     "execution_count": 16,
     "metadata": {},
     "output_type": "execute_result"
    }
   ],
   "source": [
    "myfunc(11,1091,1021)"
   ]
  },
  {
   "cell_type": "markdown",
   "id": "395fa35d",
   "metadata": {},
   "source": [
    "# *kwargs"
   ]
  },
  {
   "cell_type": "code",
   "execution_count": 18,
   "id": "2d695350",
   "metadata": {},
   "outputs": [],
   "source": [
    "def myfunc1(**kwargs):\n",
    "    if 'fruit' in kwargs:\n",
    "        print(f\"My fav fruit is {kwargs['fruit']}\")\n",
    "    else:\n",
    "        print('I dont like the fruit')"
   ]
  },
  {
   "cell_type": "code",
   "execution_count": 19,
   "id": "e316fe64",
   "metadata": {},
   "outputs": [
    {
     "name": "stdout",
     "output_type": "stream",
     "text": [
      "My fav fruit is apple\n"
     ]
    }
   ],
   "source": [
    "myfunc1(fruit = 'apple')"
   ]
  },
  {
   "cell_type": "code",
   "execution_count": 21,
   "id": "3cf0ed11",
   "metadata": {},
   "outputs": [],
   "source": [
    "def myfunc2(*args, **kwargs):\n",
    "    if 'fruit' and 'juice' in kwargs:\n",
    "        print(f\"I like {' and '.join(args)} and my fav juice is {kwargs['fruit']}\")\n",
    "        print(f\"May I have some {kwargs['juice']} juice?\")"
   ]
  },
  {
   "cell_type": "code",
   "execution_count": 23,
   "id": "6966af25",
   "metadata": {},
   "outputs": [
    {
     "name": "stdout",
     "output_type": "stream",
     "text": [
      "I like eggs and spam and milk and my fav juice is apple\n",
      "May I have some orange juice?\n"
     ]
    }
   ],
   "source": [
    "myfunc2('eggs','spam', 'milk', fruit='apple', juice='orange')"
   ]
  },
  {
   "cell_type": "code",
   "execution_count": null,
   "id": "e3334152",
   "metadata": {},
   "outputs": [],
   "source": []
  }
 ],
 "metadata": {
  "kernelspec": {
   "display_name": "Python 3 (ipykernel)",
   "language": "python",
   "name": "python3"
  },
  "language_info": {
   "codemirror_mode": {
    "name": "ipython",
    "version": 3
   },
   "file_extension": ".py",
   "mimetype": "text/x-python",
   "name": "python",
   "nbconvert_exporter": "python",
   "pygments_lexer": "ipython3",
   "version": "3.11.5"
  }
 },
 "nbformat": 4,
 "nbformat_minor": 5
}

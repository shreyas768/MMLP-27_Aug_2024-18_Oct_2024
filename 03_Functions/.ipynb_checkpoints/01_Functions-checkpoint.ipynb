{
 "cells": [
  {
   "cell_type": "code",
   "execution_count": 1,
   "id": "ebec2901",
   "metadata": {},
   "outputs": [],
   "source": [
    "def say_hello():\n",
    "    print('hello')"
   ]
  },
  {
   "cell_type": "code",
   "execution_count": 2,
   "id": "aa82a383",
   "metadata": {},
   "outputs": [
    {
     "data": {
      "text/plain": [
       "<function __main__.say_hello()>"
      ]
     },
     "execution_count": 2,
     "metadata": {},
     "output_type": "execute_result"
    }
   ],
   "source": [
    "say_hello"
   ]
  },
  {
   "cell_type": "code",
   "execution_count": 3,
   "id": "9af70a6d",
   "metadata": {},
   "outputs": [
    {
     "name": "stdout",
     "output_type": "stream",
     "text": [
      "hello\n"
     ]
    }
   ],
   "source": [
    "say_hello()"
   ]
  },
  {
   "cell_type": "code",
   "execution_count": 4,
   "id": "11dd375b",
   "metadata": {},
   "outputs": [],
   "source": [
    "def greeting(name):\n",
    "    print(f'hello {name}')"
   ]
  },
  {
   "cell_type": "code",
   "execution_count": 6,
   "id": "cdb5ceb0",
   "metadata": {},
   "outputs": [
    {
     "name": "stdout",
     "output_type": "stream",
     "text": [
      "hello Shreyas\n"
     ]
    }
   ],
   "source": [
    "greeting(name='Shreyas')"
   ]
  },
  {
   "cell_type": "code",
   "execution_count": 16,
   "id": "ede1965b",
   "metadata": {},
   "outputs": [],
   "source": [
    "def add_sum(num1,num2):\n",
    "    '''hjhdsklhsklFUWASDGKFDKJADSF'''\n",
    "    return num1+num2"
   ]
  },
  {
   "cell_type": "code",
   "execution_count": 17,
   "id": "8868107c",
   "metadata": {},
   "outputs": [],
   "source": [
    "RES = add_sum(12,11)"
   ]
  },
  {
   "cell_type": "code",
   "execution_count": 18,
   "id": "06bb9941",
   "metadata": {},
   "outputs": [],
   "source": [
    "RES1 = add_sum(22,98)"
   ]
  },
  {
   "cell_type": "code",
   "execution_count": 19,
   "id": "65a0863c",
   "metadata": {},
   "outputs": [
    {
     "data": {
      "text/plain": [
       "120"
      ]
     },
     "execution_count": 19,
     "metadata": {},
     "output_type": "execute_result"
    }
   ],
   "source": [
    "RES1"
   ]
  },
  {
   "cell_type": "code",
   "execution_count": 20,
   "id": "49bc8e48",
   "metadata": {},
   "outputs": [
    {
     "name": "stdout",
     "output_type": "stream",
     "text": [
      "120\n"
     ]
    }
   ],
   "source": [
    "print(RES1)"
   ]
  },
  {
   "cell_type": "code",
   "execution_count": 21,
   "id": "e029b087",
   "metadata": {},
   "outputs": [],
   "source": [
    "def add_sum1(num1,num2):\n",
    "    '''hjhdsklhsklFUWASDGKFDKJADSF'''\n",
    "    print(num1+num2)"
   ]
  },
  {
   "cell_type": "code",
   "execution_count": 22,
   "id": "5b1ddb60",
   "metadata": {},
   "outputs": [
    {
     "name": "stdout",
     "output_type": "stream",
     "text": [
      "120\n"
     ]
    }
   ],
   "source": [
    "add_sum1(22,98)"
   ]
  },
  {
   "cell_type": "code",
   "execution_count": 23,
   "id": "28f89c09",
   "metadata": {},
   "outputs": [
    {
     "name": "stdout",
     "output_type": "stream",
     "text": [
      "120\n"
     ]
    }
   ],
   "source": [
    "RES2 = add_sum1(22,98)"
   ]
  },
  {
   "cell_type": "code",
   "execution_count": 25,
   "id": "5e952070",
   "metadata": {},
   "outputs": [
    {
     "name": "stdout",
     "output_type": "stream",
     "text": [
      "None\n"
     ]
    }
   ],
   "source": [
    "print(RES2)"
   ]
  },
  {
   "cell_type": "code",
   "execution_count": 26,
   "id": "52c2e046",
   "metadata": {},
   "outputs": [],
   "source": [
    "def add_sum1(num1,num2):\n",
    "    '''hjhdsklhsklFUWASDGKFDKJADSF'''\n",
    "    print(num1+num2)\n",
    "    print(num1*num2)\n",
    "    return num1 - num2"
   ]
  },
  {
   "cell_type": "code",
   "execution_count": 27,
   "id": "4b87903e",
   "metadata": {},
   "outputs": [
    {
     "name": "stdout",
     "output_type": "stream",
     "text": [
      "130\n",
      "3136\n"
     ]
    },
    {
     "data": {
      "text/plain": [
       "66"
      ]
     },
     "execution_count": 27,
     "metadata": {},
     "output_type": "execute_result"
    }
   ],
   "source": [
    "add_sum1(98,32)"
   ]
  },
  {
   "cell_type": "code",
   "execution_count": 28,
   "id": "75bb80ee",
   "metadata": {},
   "outputs": [],
   "source": [
    "#construct a function that checks whether a given number is even or not\n",
    "\n",
    "def even_check(n):\n",
    "    return n%2 == 0"
   ]
  },
  {
   "cell_type": "code",
   "execution_count": 29,
   "id": "65a74a5a",
   "metadata": {},
   "outputs": [
    {
     "data": {
      "text/plain": [
       "False"
      ]
     },
     "execution_count": 29,
     "metadata": {},
     "output_type": "execute_result"
    }
   ],
   "source": [
    "even_check(21)"
   ]
  },
  {
   "cell_type": "code",
   "execution_count": 30,
   "id": "7e61e62c",
   "metadata": {},
   "outputs": [
    {
     "data": {
      "text/plain": [
       "True"
      ]
     },
     "execution_count": 30,
     "metadata": {},
     "output_type": "execute_result"
    }
   ],
   "source": [
    "even_check(20)"
   ]
  },
  {
   "cell_type": "code",
   "execution_count": 33,
   "id": "884cd475",
   "metadata": {},
   "outputs": [],
   "source": [
    "def check_even_list(num_list):\n",
    "    for n in num_list:\n",
    "        \n",
    "        if n%2 == 0:\n",
    "            return True\n",
    "        else:\n",
    "            pass"
   ]
  },
  {
   "cell_type": "code",
   "execution_count": 34,
   "id": "b6f75a2b",
   "metadata": {},
   "outputs": [
    {
     "data": {
      "text/plain": [
       "True"
      ]
     },
     "execution_count": 34,
     "metadata": {},
     "output_type": "execute_result"
    }
   ],
   "source": [
    "check_even_list([1,2,3,4,5])"
   ]
  },
  {
   "cell_type": "code",
   "execution_count": 35,
   "id": "f405086f",
   "metadata": {},
   "outputs": [
    {
     "data": {
      "text/plain": [
       "True"
      ]
     },
     "execution_count": 35,
     "metadata": {},
     "output_type": "execute_result"
    }
   ],
   "source": [
    "check_even_list([101,103,104,106,109])"
   ]
  },
  {
   "cell_type": "code",
   "execution_count": 36,
   "id": "a4e92daa",
   "metadata": {},
   "outputs": [],
   "source": [
    "check_even_list([1,3,5,7])"
   ]
  },
  {
   "cell_type": "code",
   "execution_count": 37,
   "id": "b61b5202",
   "metadata": {},
   "outputs": [],
   "source": [
    "#THIS IS WRONG BECAUSE THIS RETURNS FALSE AT THE VERY FIRST \n",
    "#ODD NUMBER AND DOESN'T CHECK FOR OTHER NUMBERS IN THE LIST\n",
    "\n",
    "def check_even_list(num_list):\n",
    "    for n in num_list:\n",
    "        \n",
    "        if n%2 == 0:\n",
    "            return True\n",
    "        else:\n",
    "            return False"
   ]
  },
  {
   "cell_type": "code",
   "execution_count": 38,
   "id": "ed0257a2",
   "metadata": {},
   "outputs": [
    {
     "data": {
      "text/plain": [
       "False"
      ]
     },
     "execution_count": 38,
     "metadata": {},
     "output_type": "execute_result"
    }
   ],
   "source": [
    "check_even_list([1,2,3])"
   ]
  },
  {
   "cell_type": "code",
   "execution_count": 39,
   "id": "2bc5de84",
   "metadata": {},
   "outputs": [],
   "source": [
    "def check_even_list(num_list):\n",
    "    for n in num_list:\n",
    "        \n",
    "        if n%2 == 0:\n",
    "            return True\n",
    "        #DON'T DO ANYTHING IF ITS NOT EVEN. CONTINUE WITH THE ITERATION\n",
    "        else:\n",
    "            pass\n",
    "    #Identation ensures that we run through the entire for loop\n",
    "    return False"
   ]
  },
  {
   "cell_type": "code",
   "execution_count": 41,
   "id": "a8f18a3d",
   "metadata": {},
   "outputs": [
    {
     "data": {
      "text/plain": [
       "True"
      ]
     },
     "execution_count": 41,
     "metadata": {},
     "output_type": "execute_result"
    }
   ],
   "source": [
    "check_even_list([2,3,4,1])"
   ]
  },
  {
   "cell_type": "code",
   "execution_count": 40,
   "id": "d734f675",
   "metadata": {},
   "outputs": [
    {
     "data": {
      "text/plain": [
       "False"
      ]
     },
     "execution_count": 40,
     "metadata": {},
     "output_type": "execute_result"
    }
   ],
   "source": [
    "check_even_list([1,3,5,7])"
   ]
  },
  {
   "cell_type": "code",
   "execution_count": 45,
   "id": "c44dae85",
   "metadata": {},
   "outputs": [],
   "source": [
    "#return all the even numbers in a list\n",
    "\n",
    "def even_list_return(num_list):\n",
    "    evn_lst = []\n",
    "    \n",
    "    for n in num_list:\n",
    "        \n",
    "        if n%2 == 0:\n",
    "            evn_lst.append(n)\n",
    "        else:\n",
    "            pass\n",
    "            \n",
    "    return evn_lst"
   ]
  },
  {
   "cell_type": "code",
   "execution_count": 46,
   "id": "fff96b77",
   "metadata": {},
   "outputs": [
    {
     "data": {
      "text/plain": [
       "[2, 4, 6]"
      ]
     },
     "execution_count": 46,
     "metadata": {},
     "output_type": "execute_result"
    }
   ],
   "source": [
    "even_list_return([1,2,3,4,5,6])"
   ]
  },
  {
   "cell_type": "code",
   "execution_count": 47,
   "id": "63977515",
   "metadata": {},
   "outputs": [
    {
     "name": "stdout",
     "output_type": "stream",
     "text": [
      "s\n",
      "h\n",
      "r\n",
      "e\n",
      "pass executed\n",
      "y\n",
      "a\n",
      "s\n"
     ]
    }
   ],
   "source": [
    "s = 'shreyas'\n",
    "\n",
    "for i in s:\n",
    "    if i == 'y':\n",
    "        print('pass executed')\n",
    "        pass\n",
    "    print(i)\n"
   ]
  },
  {
   "cell_type": "code",
   "execution_count": 48,
   "id": "5e56e6c4",
   "metadata": {},
   "outputs": [
    {
     "name": "stdout",
     "output_type": "stream",
     "text": [
      "s\n",
      "h\n",
      "r\n",
      "e\n",
      "continue executed\n",
      "a\n",
      "s\n"
     ]
    }
   ],
   "source": [
    "for i in s:\n",
    "    if i == 'y':\n",
    "        print('continue executed')\n",
    "        continue\n",
    "    print(i)"
   ]
  },
  {
   "cell_type": "markdown",
   "id": "ff81a97a",
   "metadata": {},
   "source": [
    "#### tuple unpacking "
   ]
  },
  {
   "cell_type": "code",
   "execution_count": 49,
   "id": "de9361b2",
   "metadata": {},
   "outputs": [],
   "source": [
    "w_h = [('A',100),('B',400),('C',800), ('D',50)]\n",
    "\n",
    "def emp_check(wh):\n",
    "    \n",
    "    current_max_hr = 0\n",
    "    \n",
    "    best_employee = ''\n",
    "    \n",
    "    for e,h in wh:\n",
    "        if h>current_max_hr:\n",
    "            current_max_hr = h\n",
    "            best_employee = e\n",
    "        else:\n",
    "            pass\n",
    "    \n",
    "    return (best_employee,current_max_hr)"
   ]
  },
  {
   "cell_type": "code",
   "execution_count": 50,
   "id": "e67e231e",
   "metadata": {},
   "outputs": [
    {
     "data": {
      "text/plain": [
       "('C', 800)"
      ]
     },
     "execution_count": 50,
     "metadata": {},
     "output_type": "execute_result"
    }
   ],
   "source": [
    "emp_check(w_h)"
   ]
  },
  {
   "cell_type": "markdown",
   "id": "d8db6c71",
   "metadata": {},
   "source": [
    "* write a func that returns the lesser of two given numbers if both are even , but returns the greater if one or both numbers are odd\n",
    "\n",
    "* write a funct that capitalizes the first and fourth letters of a name/word\n",
    "\n",
    "* return a string where for every character in the original, there are three characters\n",
    "\n",
    "shreyas -->> ssshhhrrreeeyyyaaasss"
   ]
  },
  {
   "cell_type": "code",
   "execution_count": 58,
   "id": "5b0091f0",
   "metadata": {},
   "outputs": [],
   "source": [
    "#returns the prime number that exists up to any number we pass\n",
    "\n",
    "def give_prime(num):\n",
    "    \n",
    "    primes = [2]\n",
    "    x = 3\n",
    "# initializes a variable x with the value 3, which will be used to check for prime numbers starting from 3.   \n",
    "    if num < 2:\n",
    "        return 0\n",
    "    while x <= num:\n",
    "# loop that will continue to execute as long as x is less than or equal to n\n",
    "        for y in range(3,x,2):\n",
    "#y takes on values starting from 3 up to (but not including) x, incrementing by 2 each time.\n",
    "#This loop checks whether x is divisible by any odd number less than x. The reason for starting \n",
    "#from 3 and incrementing by 2 is that the code is only concerned with odd divisors (since even \n",
    "#numbers other than 2 cannot be prime).\n",
    "\n",
    "\n",
    "            if x%y == 0:\n",
    "#If the remainder when x is divided by y is 0, it means that x is not a prime number \n",
    "#because it has a divisor other than 1 and itself.\n",
    "                x = x+2\n",
    "                break\n",
    "#The break statement terminates the for loop early if x is found to be non-prime. \n",
    "#Control moves back to the while loop to continue with the next odd number.\n",
    "        else:\n",
    "#else executes only if the for loop completes without encountering a break statement. \n",
    "#This means that x is a prime number (no divisors were found for x).\n",
    "            primes.append(x)\n",
    "            x = x+2\n",
    "    print(primes)\n",
    "    print(len(primes))"
   ]
  },
  {
   "cell_type": "code",
   "execution_count": 59,
   "id": "e6177251",
   "metadata": {},
   "outputs": [
    {
     "name": "stdout",
     "output_type": "stream",
     "text": [
      "[2, 3, 5, 7, 11, 13, 17, 19, 23, 29, 31, 37, 41, 43, 47, 53, 59, 61, 67, 71, 73, 79, 83, 89, 97]\n",
      "25\n"
     ]
    }
   ],
   "source": [
    "give_prime(100)"
   ]
  },
  {
   "cell_type": "code",
   "execution_count": null,
   "id": "ad208831",
   "metadata": {},
   "outputs": [],
   "source": []
  }
 ],
 "metadata": {
  "kernelspec": {
   "display_name": "Python 3 (ipykernel)",
   "language": "python",
   "name": "python3"
  },
  "language_info": {
   "codemirror_mode": {
    "name": "ipython",
    "version": 3
   },
   "file_extension": ".py",
   "mimetype": "text/x-python",
   "name": "python",
   "nbconvert_exporter": "python",
   "pygments_lexer": "ipython3",
   "version": "3.11.5"
  }
 },
 "nbformat": 4,
 "nbformat_minor": 5
}

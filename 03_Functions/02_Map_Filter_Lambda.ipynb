{
 "cells": [
  {
   "cell_type": "markdown",
   "id": "ca5590b1",
   "metadata": {},
   "source": [
    "##### Map"
   ]
  },
  {
   "cell_type": "code",
   "execution_count": 1,
   "id": "a10cea71",
   "metadata": {},
   "outputs": [],
   "source": [
    "def sq_multiply(n):\n",
    "    return (n**2)*4"
   ]
  },
  {
   "cell_type": "code",
   "execution_count": 2,
   "id": "bff8232a",
   "metadata": {},
   "outputs": [
    {
     "data": {
      "text/plain": [
       "36"
      ]
     },
     "execution_count": 2,
     "metadata": {},
     "output_type": "execute_result"
    }
   ],
   "source": [
    "sq_multiply(3)"
   ]
  },
  {
   "cell_type": "code",
   "execution_count": 3,
   "id": "217d332e",
   "metadata": {},
   "outputs": [
    {
     "data": {
      "text/plain": [
       "<map at 0x1073d13c0>"
      ]
     },
     "execution_count": 3,
     "metadata": {},
     "output_type": "execute_result"
    }
   ],
   "source": [
    "my_lst = [11,21,31,41,51]\n",
    "\n",
    "map(sq_multiply,my_lst)"
   ]
  },
  {
   "cell_type": "code",
   "execution_count": 4,
   "id": "ef9cd67b",
   "metadata": {},
   "outputs": [
    {
     "data": {
      "text/plain": [
       "[484, 1764, 3844, 6724, 10404]"
      ]
     },
     "execution_count": 4,
     "metadata": {},
     "output_type": "execute_result"
    }
   ],
   "source": [
    "list(map(sq_multiply,my_lst))"
   ]
  },
  {
   "cell_type": "markdown",
   "id": "d645104c",
   "metadata": {},
   "source": [
    "* names = ['Aarti','Abhyuday','Balakrishnan','Mohit','Preeti','Shreyas' ]\n",
    "\n",
    "* ['odd','a','b','odd','p','odd']"
   ]
  },
  {
   "cell_type": "code",
   "execution_count": 5,
   "id": "205abf89",
   "metadata": {},
   "outputs": [],
   "source": [
    "def sample_func(mystr):\n",
    "    if len(mystr) % 2 == 1:\n",
    "        return 'odd'\n",
    "    else:\n",
    "        return mystr[0].lower()"
   ]
  },
  {
   "cell_type": "code",
   "execution_count": 7,
   "id": "4606d4c0",
   "metadata": {},
   "outputs": [
    {
     "data": {
      "text/plain": [
       "'s'"
      ]
     },
     "execution_count": 7,
     "metadata": {},
     "output_type": "execute_result"
    }
   ],
   "source": [
    "sample_func('Shre')"
   ]
  },
  {
   "cell_type": "code",
   "execution_count": 8,
   "id": "3bbc4cae",
   "metadata": {},
   "outputs": [
    {
     "data": {
      "text/plain": [
       "['odd', 'a', 'b', 'odd', 'p', 'odd']"
      ]
     },
     "execution_count": 8,
     "metadata": {},
     "output_type": "execute_result"
    }
   ],
   "source": [
    "names = ['Aarti','Abhyuday','Balakrishnan','Mohit','Preeti','Shreyas' ]\n",
    "list(map(sample_func,names))"
   ]
  },
  {
   "cell_type": "markdown",
   "id": "76526c43",
   "metadata": {},
   "source": [
    "### Filter\n",
    "\n",
    "* yield those items of iterable for which function(item) is True(boolean value)"
   ]
  },
  {
   "cell_type": "code",
   "execution_count": 9,
   "id": "0b1230d4",
   "metadata": {},
   "outputs": [],
   "source": [
    "def check_even(n):\n",
    "    return n%2 == 0"
   ]
  },
  {
   "cell_type": "code",
   "execution_count": 11,
   "id": "9f422168",
   "metadata": {},
   "outputs": [
    {
     "data": {
      "text/plain": [
       "False"
      ]
     },
     "execution_count": 11,
     "metadata": {},
     "output_type": "execute_result"
    }
   ],
   "source": [
    "check_even(7)"
   ]
  },
  {
   "cell_type": "code",
   "execution_count": 12,
   "id": "874672b7",
   "metadata": {},
   "outputs": [
    {
     "data": {
      "text/plain": [
       "True"
      ]
     },
     "execution_count": 12,
     "metadata": {},
     "output_type": "execute_result"
    }
   ],
   "source": [
    "check_even(12)"
   ]
  },
  {
   "cell_type": "code",
   "execution_count": 13,
   "id": "e7c3b63b",
   "metadata": {},
   "outputs": [
    {
     "data": {
      "text/plain": [
       "[0, 2, 4, 6, 8]"
      ]
     },
     "execution_count": 13,
     "metadata": {},
     "output_type": "execute_result"
    }
   ],
   "source": [
    "list(filter(check_even,[0,1,2,3,4,5,6,7,8]))"
   ]
  },
  {
   "cell_type": "code",
   "execution_count": 43,
   "id": "5c6052ec",
   "metadata": {},
   "outputs": [],
   "source": [
    "lst5 = [0,1,2,3,4,5,6,7,8]\n",
    "#take all odd numbers from lst5 and add 1 to each of them\n"
   ]
  },
  {
   "cell_type": "code",
   "execution_count": 48,
   "id": "d9b1565f",
   "metadata": {},
   "outputs": [
    {
     "data": {
      "text/plain": [
       "[2, 4, 6, 8]"
      ]
     },
     "execution_count": 48,
     "metadata": {},
     "output_type": "execute_result"
    }
   ],
   "source": [
    "list(map(lambda x : x+1,list(filter(lambda n : n%2 ==1,lst5))))"
   ]
  },
  {
   "cell_type": "markdown",
   "id": "ef9c7661",
   "metadata": {},
   "source": [
    "#### Lambda Expressions"
   ]
  },
  {
   "cell_type": "code",
   "execution_count": 14,
   "id": "57e642e9",
   "metadata": {},
   "outputs": [],
   "source": [
    "def square(n):\n",
    "    res = n**2\n",
    "    return res"
   ]
  },
  {
   "cell_type": "code",
   "execution_count": 15,
   "id": "f18912e1",
   "metadata": {},
   "outputs": [
    {
     "data": {
      "text/plain": [
       "144"
      ]
     },
     "execution_count": 15,
     "metadata": {},
     "output_type": "execute_result"
    }
   ],
   "source": [
    "square(12)"
   ]
  },
  {
   "cell_type": "code",
   "execution_count": 16,
   "id": "5b971cf3",
   "metadata": {},
   "outputs": [],
   "source": [
    "def square(n):\n",
    "    return n**2"
   ]
  },
  {
   "cell_type": "code",
   "execution_count": 17,
   "id": "0197888a",
   "metadata": {},
   "outputs": [
    {
     "data": {
      "text/plain": [
       "4"
      ]
     },
     "execution_count": 17,
     "metadata": {},
     "output_type": "execute_result"
    }
   ],
   "source": [
    "square(2)"
   ]
  },
  {
   "cell_type": "code",
   "execution_count": 18,
   "id": "6052e82c",
   "metadata": {},
   "outputs": [],
   "source": [
    "def square2(n): return n**2"
   ]
  },
  {
   "cell_type": "code",
   "execution_count": 19,
   "id": "070f6e22",
   "metadata": {},
   "outputs": [
    {
     "data": {
      "text/plain": [
       "25"
      ]
     },
     "execution_count": 19,
     "metadata": {},
     "output_type": "execute_result"
    }
   ],
   "source": [
    "square2(5)"
   ]
  },
  {
   "cell_type": "code",
   "execution_count": 21,
   "id": "17b83b75",
   "metadata": {},
   "outputs": [],
   "source": [
    "square11 = lambda n: n**2"
   ]
  },
  {
   "cell_type": "code",
   "execution_count": 22,
   "id": "3e13420c",
   "metadata": {},
   "outputs": [
    {
     "data": {
      "text/plain": [
       "64"
      ]
     },
     "execution_count": 22,
     "metadata": {},
     "output_type": "execute_result"
    }
   ],
   "source": [
    "square11(8)"
   ]
  },
  {
   "cell_type": "code",
   "execution_count": 23,
   "id": "52e9d8d6",
   "metadata": {},
   "outputs": [
    {
     "data": {
      "text/plain": [
       "[484, 1764, 3844, 6724, 10404]"
      ]
     },
     "execution_count": 23,
     "metadata": {},
     "output_type": "execute_result"
    }
   ],
   "source": [
    "list(map(lambda n : (n**2)*4,my_lst ))"
   ]
  },
  {
   "cell_type": "code",
   "execution_count": 24,
   "id": "fae6cb7e",
   "metadata": {},
   "outputs": [
    {
     "data": {
      "text/plain": [
       "[576, 676, 784, 900, 1024]"
      ]
     },
     "execution_count": 24,
     "metadata": {},
     "output_type": "execute_result"
    }
   ],
   "source": [
    "list(map(lambda n : (n**2)*4, [12,13,14,15,16] ))"
   ]
  },
  {
   "cell_type": "code",
   "execution_count": 25,
   "id": "1aff79c1",
   "metadata": {},
   "outputs": [
    {
     "data": {
      "text/plain": [
       "[32.0, 53.6, 68.18, 94.28]"
      ]
     },
     "execution_count": 25,
     "metadata": {},
     "output_type": "execute_result"
    }
   ],
   "source": [
    "celsius = [0,12,20.1,34.6]\n",
    "list(map(lambda C : (9/5)*C+32, celsius ))"
   ]
  },
  {
   "cell_type": "code",
   "execution_count": 26,
   "id": "616b55be",
   "metadata": {},
   "outputs": [
    {
     "data": {
      "text/plain": [
       "[12, 14, 16]"
      ]
     },
     "execution_count": 26,
     "metadata": {},
     "output_type": "execute_result"
    }
   ],
   "source": [
    "list(filter(lambda n:n%2 == 0, [12,13,14,15,16]))"
   ]
  },
  {
   "cell_type": "code",
   "execution_count": 32,
   "id": "97b47177",
   "metadata": {},
   "outputs": [
    {
     "data": {
      "text/plain": [
       "['sayerhS', 'LPBR', 'rTII', 'PLMM', 'eruzA', 'luhar']"
      ]
     },
     "execution_count": 32,
     "metadata": {},
     "output_type": "execute_result"
    }
   ],
   "source": [
    "s = ['Shreyas','RBPL','IITr', 'MMLP', 'Azure', 'rahul']\n",
    "list(map(lambda a : a[::-1], s))"
   ]
  },
  {
   "cell_type": "code",
   "execution_count": 33,
   "id": "254964fe",
   "metadata": {},
   "outputs": [
    {
     "data": {
      "text/plain": [
       "['RBPL', 'rahul']"
      ]
     },
     "execution_count": 33,
     "metadata": {},
     "output_type": "execute_result"
    }
   ],
   "source": [
    "list(filter(lambda a:a[0].lower() == 'r' , s))"
   ]
  },
  {
   "cell_type": "code",
   "execution_count": 34,
   "id": "ab0894b7",
   "metadata": {},
   "outputs": [],
   "source": [
    "multiply = lambda a,b : a*b"
   ]
  },
  {
   "cell_type": "code",
   "execution_count": 35,
   "id": "345bb03b",
   "metadata": {},
   "outputs": [
    {
     "data": {
      "text/plain": [
       "24"
      ]
     },
     "execution_count": 35,
     "metadata": {},
     "output_type": "execute_result"
    }
   ],
   "source": [
    "multiply(2,12)"
   ]
  },
  {
   "cell_type": "code",
   "execution_count": 36,
   "id": "65fabe9b",
   "metadata": {},
   "outputs": [
    {
     "data": {
      "text/plain": [
       "[82, 73, 80, 62]"
      ]
     },
     "execution_count": 36,
     "metadata": {},
     "output_type": "execute_result"
    }
   ],
   "source": [
    "sc = [[1,35,80], [2,32,75],[3,30,82],[5,37,60]]\n",
    "\n",
    "avg = 35\n",
    "\n",
    "list(map(lambda x: x[2]+2 if x[1] >= avg else x[2]-2, sc))"
   ]
  },
  {
   "cell_type": "code",
   "execution_count": null,
   "id": "2c79621e",
   "metadata": {},
   "outputs": [],
   "source": []
  }
 ],
 "metadata": {
  "kernelspec": {
   "display_name": "Python 3 (ipykernel)",
   "language": "python",
   "name": "python3"
  },
  "language_info": {
   "codemirror_mode": {
    "name": "ipython",
    "version": 3
   },
   "file_extension": ".py",
   "mimetype": "text/x-python",
   "name": "python",
   "nbconvert_exporter": "python",
   "pygments_lexer": "ipython3",
   "version": "3.11.5"
  }
 },
 "nbformat": 4,
 "nbformat_minor": 5
}

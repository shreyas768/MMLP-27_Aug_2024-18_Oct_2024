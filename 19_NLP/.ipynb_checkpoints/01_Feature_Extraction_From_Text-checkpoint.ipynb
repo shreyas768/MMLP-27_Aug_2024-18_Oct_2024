{
 "cells": [
  {
   "cell_type": "markdown",
   "id": "ab1a936c",
   "metadata": {},
   "source": [
    "### Read entire text as string"
   ]
  },
  {
   "cell_type": "markdown",
   "id": "0fbb2bdb",
   "metadata": {},
   "source": [
    "with open('One.txt') as mytext:\n",
    "    a = mytext.read()\n",
    "    print(a)"
   ]
  },
  {
   "cell_type": "code",
   "execution_count": 3,
   "id": "975610d6",
   "metadata": {},
   "outputs": [
    {
     "name": "stdout",
     "output_type": "stream",
     "text": [
      "This story is about surfing\n",
      "Catching waves is fun\n",
      "Surfing is a popular water sport\n",
      "\n"
     ]
    }
   ],
   "source": [
    "with open('Two.txt') as mytext:\n",
    "    b = mytext.read()\n",
    "    print(b)"
   ]
  },
  {
   "cell_type": "code",
   "execution_count": 4,
   "id": "7aa9dec9",
   "metadata": {},
   "outputs": [
    {
     "data": {
      "text/plain": [
       "'This is a story about dogs\\nour canine pets\\nDogs are furry animals\\n'"
      ]
     },
     "execution_count": 4,
     "metadata": {},
     "output_type": "execute_result"
    }
   ],
   "source": [
    "a"
   ]
  },
  {
   "cell_type": "code",
   "execution_count": 5,
   "id": "150f5d0e",
   "metadata": {},
   "outputs": [],
   "source": [
    "with open('Two.txt') as mytext:\n",
    "    b1 = mytext.readlines()"
   ]
  },
  {
   "cell_type": "markdown",
   "id": "0391128c",
   "metadata": {},
   "source": [
    "### Read entire text as list"
   ]
  },
  {
   "cell_type": "code",
   "execution_count": 6,
   "id": "b0b5eab2",
   "metadata": {},
   "outputs": [
    {
     "data": {
      "text/plain": [
       "['This story is about surfing\\n',\n",
       " 'Catching waves is fun\\n',\n",
       " 'Surfing is a popular water sport\\n']"
      ]
     },
     "execution_count": 6,
     "metadata": {},
     "output_type": "execute_result"
    }
   ],
   "source": [
    "b1"
   ]
  },
  {
   "cell_type": "markdown",
   "id": "f1567aac",
   "metadata": {},
   "source": [
    "### Read in words separately"
   ]
  },
  {
   "cell_type": "code",
   "execution_count": 13,
   "id": "7c66f7ad",
   "metadata": {},
   "outputs": [],
   "source": [
    "with open('One.txt') as mytext:\n",
    "    a1 = mytext.read().lower().split()\n"
   ]
  },
  {
   "cell_type": "code",
   "execution_count": 14,
   "id": "7bd89414",
   "metadata": {},
   "outputs": [
    {
     "data": {
      "text/plain": [
       "['this',\n",
       " 'is',\n",
       " 'a',\n",
       " 'story',\n",
       " 'about',\n",
       " 'dogs',\n",
       " 'our',\n",
       " 'canine',\n",
       " 'pets',\n",
       " 'dogs',\n",
       " 'are',\n",
       " 'furry',\n",
       " 'animals']"
      ]
     },
     "execution_count": 14,
     "metadata": {},
     "output_type": "execute_result"
    }
   ],
   "source": [
    "a1"
   ]
  },
  {
   "cell_type": "markdown",
   "id": "0e94de34",
   "metadata": {},
   "source": [
    "### Build a Vocabulary (Create a 'Bag of Words')"
   ]
  },
  {
   "cell_type": "code",
   "execution_count": 15,
   "id": "8d85f9c5",
   "metadata": {},
   "outputs": [],
   "source": [
    "with open('One.txt') as mytext:\n",
    "    word_one = mytext.read().lower().split()\n"
   ]
  },
  {
   "cell_type": "code",
   "execution_count": 16,
   "id": "fc11bd73",
   "metadata": {},
   "outputs": [
    {
     "data": {
      "text/plain": [
       "['this',\n",
       " 'is',\n",
       " 'a',\n",
       " 'story',\n",
       " 'about',\n",
       " 'dogs',\n",
       " 'our',\n",
       " 'canine',\n",
       " 'pets',\n",
       " 'dogs',\n",
       " 'are',\n",
       " 'furry',\n",
       " 'animals']"
      ]
     },
     "execution_count": 16,
     "metadata": {},
     "output_type": "execute_result"
    }
   ],
   "source": [
    "word_one"
   ]
  },
  {
   "cell_type": "code",
   "execution_count": 17,
   "id": "2f49d64d",
   "metadata": {},
   "outputs": [
    {
     "data": {
      "text/plain": [
       "13"
      ]
     },
     "execution_count": 17,
     "metadata": {},
     "output_type": "execute_result"
    }
   ],
   "source": [
    "len(word_one)"
   ]
  },
  {
   "cell_type": "code",
   "execution_count": 18,
   "id": "7c7dfb50",
   "metadata": {},
   "outputs": [],
   "source": [
    "uni_words_one = set(word_one)"
   ]
  },
  {
   "cell_type": "code",
   "execution_count": 19,
   "id": "50031cd8",
   "metadata": {},
   "outputs": [
    {
     "data": {
      "text/plain": [
       "{'a',\n",
       " 'about',\n",
       " 'animals',\n",
       " 'are',\n",
       " 'canine',\n",
       " 'dogs',\n",
       " 'furry',\n",
       " 'is',\n",
       " 'our',\n",
       " 'pets',\n",
       " 'story',\n",
       " 'this'}"
      ]
     },
     "execution_count": 19,
     "metadata": {},
     "output_type": "execute_result"
    }
   ],
   "source": [
    "uni_words_one"
   ]
  },
  {
   "cell_type": "code",
   "execution_count": 20,
   "id": "f9c19373",
   "metadata": {},
   "outputs": [
    {
     "data": {
      "text/plain": [
       "12"
      ]
     },
     "execution_count": 20,
     "metadata": {},
     "output_type": "execute_result"
    }
   ],
   "source": [
    "len(uni_words_one)"
   ]
  },
  {
   "cell_type": "code",
   "execution_count": 21,
   "id": "b5bad44d",
   "metadata": {},
   "outputs": [],
   "source": [
    "with open('Two.txt') as mytext:\n",
    "    word_two = mytext.read().lower().split()\n",
    "    uni_words_two = set(word_two)\n"
   ]
  },
  {
   "cell_type": "code",
   "execution_count": 22,
   "id": "acd319ac",
   "metadata": {},
   "outputs": [
    {
     "data": {
      "text/plain": [
       "{'a',\n",
       " 'about',\n",
       " 'catching',\n",
       " 'fun',\n",
       " 'is',\n",
       " 'popular',\n",
       " 'sport',\n",
       " 'story',\n",
       " 'surfing',\n",
       " 'this',\n",
       " 'water',\n",
       " 'waves'}"
      ]
     },
     "execution_count": 22,
     "metadata": {},
     "output_type": "execute_result"
    }
   ],
   "source": [
    "uni_words_two"
   ]
  },
  {
   "cell_type": "markdown",
   "id": "c005a88d",
   "metadata": {},
   "source": [
    "### Get all the unique words across all the documents"
   ]
  },
  {
   "cell_type": "code",
   "execution_count": 24,
   "id": "b30c6741",
   "metadata": {},
   "outputs": [],
   "source": [
    "all_uni_words = set()\n",
    "all_uni_words.update(uni_words_one)\n",
    "all_uni_words.update(uni_words_two)"
   ]
  },
  {
   "cell_type": "code",
   "execution_count": 25,
   "id": "caad7e96",
   "metadata": {},
   "outputs": [
    {
     "data": {
      "text/plain": [
       "{'a',\n",
       " 'about',\n",
       " 'animals',\n",
       " 'are',\n",
       " 'canine',\n",
       " 'catching',\n",
       " 'dogs',\n",
       " 'fun',\n",
       " 'furry',\n",
       " 'is',\n",
       " 'our',\n",
       " 'pets',\n",
       " 'popular',\n",
       " 'sport',\n",
       " 'story',\n",
       " 'surfing',\n",
       " 'this',\n",
       " 'water',\n",
       " 'waves'}"
      ]
     },
     "execution_count": 25,
     "metadata": {},
     "output_type": "execute_result"
    }
   ],
   "source": [
    "all_uni_words"
   ]
  },
  {
   "cell_type": "code",
   "execution_count": 27,
   "id": "c83bdb1b",
   "metadata": {},
   "outputs": [],
   "source": [
    "full_vocab = dict()\n",
    "i = 0\n",
    "\n",
    "for w in all_uni_words:\n",
    "    full_vocab[w] = i\n",
    "    i = i+1"
   ]
  },
  {
   "cell_type": "code",
   "execution_count": 28,
   "id": "ced61679",
   "metadata": {},
   "outputs": [
    {
     "data": {
      "text/plain": [
       "{'animals': 0,\n",
       " 'popular': 1,\n",
       " 'furry': 2,\n",
       " 'a': 3,\n",
       " 'this': 4,\n",
       " 'our': 5,\n",
       " 'catching': 6,\n",
       " 'surfing': 7,\n",
       " 'pets': 8,\n",
       " 'dogs': 9,\n",
       " 'are': 10,\n",
       " 'story': 11,\n",
       " 'is': 12,\n",
       " 'waves': 13,\n",
       " 'fun': 14,\n",
       " 'water': 15,\n",
       " 'sport': 16,\n",
       " 'about': 17,\n",
       " 'canine': 18}"
      ]
     },
     "execution_count": 28,
     "metadata": {},
     "output_type": "execute_result"
    }
   ],
   "source": [
    "full_vocab"
   ]
  },
  {
   "cell_type": "markdown",
   "id": "053c9e56",
   "metadata": {},
   "source": [
    "### Bag of Words to Frequency Counts"
   ]
  },
  {
   "cell_type": "code",
   "execution_count": 30,
   "id": "69a7c300",
   "metadata": {},
   "outputs": [],
   "source": [
    "one_freq = [0]*len(full_vocab)\n",
    "two_freq = [0]*len(full_vocab)\n",
    "all_words = ['']*len(full_vocab)"
   ]
  },
  {
   "cell_type": "code",
   "execution_count": 31,
   "id": "66f31434",
   "metadata": {},
   "outputs": [
    {
     "data": {
      "text/plain": [
       "['', '', '', '', '', '', '', '', '', '', '', '', '', '', '', '', '', '', '']"
      ]
     },
     "execution_count": 31,
     "metadata": {},
     "output_type": "execute_result"
    }
   ],
   "source": [
    "all_words"
   ]
  },
  {
   "cell_type": "code",
   "execution_count": 34,
   "id": "3e807b4d",
   "metadata": {},
   "outputs": [],
   "source": [
    "for w in full_vocab:\n",
    "    word_ind = full_vocab[w]\n",
    "    all_words[word_ind] = w"
   ]
  },
  {
   "cell_type": "code",
   "execution_count": 35,
   "id": "b818a657",
   "metadata": {},
   "outputs": [
    {
     "data": {
      "text/plain": [
       "18"
      ]
     },
     "execution_count": 35,
     "metadata": {},
     "output_type": "execute_result"
    }
   ],
   "source": [
    "word_ind"
   ]
  },
  {
   "cell_type": "code",
   "execution_count": 36,
   "id": "7556af8a",
   "metadata": {},
   "outputs": [
    {
     "data": {
      "text/plain": [
       "['animals',\n",
       " 'popular',\n",
       " 'furry',\n",
       " 'a',\n",
       " 'this',\n",
       " 'our',\n",
       " 'catching',\n",
       " 'surfing',\n",
       " 'pets',\n",
       " 'dogs',\n",
       " 'are',\n",
       " 'story',\n",
       " 'is',\n",
       " 'waves',\n",
       " 'fun',\n",
       " 'water',\n",
       " 'sport',\n",
       " 'about',\n",
       " 'canine']"
      ]
     },
     "execution_count": 36,
     "metadata": {},
     "output_type": "execute_result"
    }
   ],
   "source": [
    "all_words"
   ]
  },
  {
   "cell_type": "markdown",
   "id": "c5fd039d",
   "metadata": {},
   "source": [
    "### Add in counts per word per doc"
   ]
  },
  {
   "cell_type": "code",
   "execution_count": 37,
   "id": "033ff399",
   "metadata": {},
   "outputs": [],
   "source": [
    "with open('One.txt') as f:\n",
    "    one_text = f.read().lower().split()"
   ]
  },
  {
   "cell_type": "code",
   "execution_count": 38,
   "id": "1e69e204",
   "metadata": {},
   "outputs": [
    {
     "data": {
      "text/plain": [
       "['this',\n",
       " 'is',\n",
       " 'a',\n",
       " 'story',\n",
       " 'about',\n",
       " 'dogs',\n",
       " 'our',\n",
       " 'canine',\n",
       " 'pets',\n",
       " 'dogs',\n",
       " 'are',\n",
       " 'furry',\n",
       " 'animals']"
      ]
     },
     "execution_count": 38,
     "metadata": {},
     "output_type": "execute_result"
    }
   ],
   "source": [
    "one_text"
   ]
  },
  {
   "cell_type": "code",
   "execution_count": 39,
   "id": "9b60f8a3",
   "metadata": {},
   "outputs": [],
   "source": [
    "for w in one_text:\n",
    "    word_ind = full_vocab[w]\n",
    "    one_freq[word_ind] += 1"
   ]
  },
  {
   "cell_type": "code",
   "execution_count": 40,
   "id": "d10664fe",
   "metadata": {},
   "outputs": [
    {
     "data": {
      "text/plain": [
       "[1, 0, 1, 1, 1, 1, 0, 0, 1, 2, 1, 1, 1, 0, 0, 0, 0, 1, 1]"
      ]
     },
     "execution_count": 40,
     "metadata": {},
     "output_type": "execute_result"
    }
   ],
   "source": [
    "one_freq"
   ]
  },
  {
   "cell_type": "code",
   "execution_count": 42,
   "id": "953164bc",
   "metadata": {},
   "outputs": [
    {
     "data": {
      "text/plain": [
       "['animals',\n",
       " 'popular',\n",
       " 'furry',\n",
       " 'a',\n",
       " 'this',\n",
       " 'our',\n",
       " 'catching',\n",
       " 'surfing',\n",
       " 'pets',\n",
       " 'dogs',\n",
       " 'are',\n",
       " 'story',\n",
       " 'is',\n",
       " 'waves',\n",
       " 'fun',\n",
       " 'water',\n",
       " 'sport',\n",
       " 'about',\n",
       " 'canine']"
      ]
     },
     "execution_count": 42,
     "metadata": {},
     "output_type": "execute_result"
    }
   ],
   "source": [
    "all_words"
   ]
  },
  {
   "cell_type": "code",
   "execution_count": null,
   "id": "89c4be7e",
   "metadata": {},
   "outputs": [],
   "source": []
  }
 ],
 "metadata": {
  "kernelspec": {
   "display_name": "Python 3 (ipykernel)",
   "language": "python",
   "name": "python3"
  },
  "language_info": {
   "codemirror_mode": {
    "name": "ipython",
    "version": 3
   },
   "file_extension": ".py",
   "mimetype": "text/x-python",
   "name": "python",
   "nbconvert_exporter": "python",
   "pygments_lexer": "ipython3",
   "version": "3.11.5"
  }
 },
 "nbformat": 4,
 "nbformat_minor": 5
}
